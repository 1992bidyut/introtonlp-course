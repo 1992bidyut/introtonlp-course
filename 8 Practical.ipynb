{
 "cells": [
  {
   "cell_type": "markdown",
   "metadata": {},
   "source": [
    "# Practical"
   ]
  },
  {
   "cell_type": "markdown",
   "metadata": {},
   "source": [
    "## Setting the Scene\n",
    "\n",
    "Imagine you are working for a social media company. The company is concerned with the growing amount of fake news circulatng on it's platform. They have assigned you to investigate how fake news can be recognized and create a method of identifying it. Let's work through this problem together, first by exploring and cleaning the data and then working to classify fake vs factual news stories. We'll also create some plots of our outputs and discuss how we would communicate our findings to stakeholders."
   ]
  },
  {
   "cell_type": "markdown",
   "metadata": {},
   "source": [
    "## Import Data"
   ]
  },
  {
   "cell_type": "code",
<<<<<<< HEAD
   "execution_count": 1,
=======
   "execution_count": null,
>>>>>>> f5f037656f1bd01188f70546802a1a48de6bf00c
   "metadata": {},
   "outputs": [],
   "source": [
    "import pandas as pd\n",
    "import matplotlib.pyplot as plt"
   ]
  },
  {
   "cell_type": "code",
<<<<<<< HEAD
   "execution_count": 2,
=======
   "execution_count": null,
>>>>>>> f5f037656f1bd01188f70546802a1a48de6bf00c
   "metadata": {},
   "outputs": [],
   "source": [
    "# set plot options\n",
    "plt.rcParams['figure.figsize'] = (12, 8)\n",
    "default_plot_colour = \"#00bfbf\""
   ]
  },
  {
   "cell_type": "code",
<<<<<<< HEAD
   "execution_count": 3,
=======
   "execution_count": null,
>>>>>>> f5f037656f1bd01188f70546802a1a48de6bf00c
   "metadata": {},
   "outputs": [],
   "source": [
    "data = pd.read_csv(\"fake_news_data.csv\")"
   ]
  },
  {
   "cell_type": "code",
<<<<<<< HEAD
   "execution_count": 4,
=======
   "execution_count": 9,
>>>>>>> f5f037656f1bd01188f70546802a1a48de6bf00c
   "metadata": {},
   "outputs": [
    {
     "data": {
      "text/html": [
       "<div>\n",
       "<style scoped>\n",
       "    .dataframe tbody tr th:only-of-type {\n",
       "        vertical-align: middle;\n",
       "    }\n",
       "\n",
       "    .dataframe tbody tr th {\n",
       "        vertical-align: top;\n",
       "    }\n",
       "\n",
       "    .dataframe thead th {\n",
       "        text-align: right;\n",
       "    }\n",
       "</style>\n",
       "<table border=\"1\" class=\"dataframe\">\n",
       "  <thead>\n",
       "    <tr style=\"text-align: right;\">\n",
       "      <th></th>\n",
       "      <th>title</th>\n",
       "      <th>text</th>\n",
       "      <th>date</th>\n",
       "      <th>fake_or_factual</th>\n",
       "    </tr>\n",
       "  </thead>\n",
       "  <tbody>\n",
       "    <tr>\n",
<<<<<<< HEAD
       "      <th>0</th>\n",
=======
       "      <th>78</th>\n",
>>>>>>> f5f037656f1bd01188f70546802a1a48de6bf00c
       "      <td>HOLLYWEIRD LIB SUSAN SARANDON Compares Muslim ...</td>\n",
       "      <td>There are two small problems with your analogy...</td>\n",
       "      <td>Dec 30, 2015</td>\n",
       "      <td>Fake News</td>\n",
       "    </tr>\n",
       "    <tr>\n",
<<<<<<< HEAD
       "      <th>1</th>\n",
=======
       "      <th>52</th>\n",
>>>>>>> f5f037656f1bd01188f70546802a1a48de6bf00c
       "      <td>Elijah Cummings Called Trump Out To His Face ...</td>\n",
       "      <td>Buried in Trump s bonkers interview with New Y...</td>\n",
       "      <td>April 6, 2017</td>\n",
       "      <td>Fake News</td>\n",
       "    </tr>\n",
       "    <tr>\n",
<<<<<<< HEAD
       "      <th>2</th>\n",
=======
       "      <th>4</th>\n",
>>>>>>> f5f037656f1bd01188f70546802a1a48de6bf00c
       "      <td>Hillary Clinton Says Half Her Cabinet Will Be...</td>\n",
       "      <td>Women make up over 50 percent of this country,...</td>\n",
       "      <td>April 26, 2016</td>\n",
       "      <td>Fake News</td>\n",
       "    </tr>\n",
       "    <tr>\n",
<<<<<<< HEAD
       "      <th>3</th>\n",
=======
       "      <th>20</th>\n",
>>>>>>> f5f037656f1bd01188f70546802a1a48de6bf00c
       "      <td>Russian bombing of U.S.-backed forces being di...</td>\n",
       "      <td>WASHINGTON (Reuters) - U.S. Defense Secretary ...</td>\n",
       "      <td>September 18, 2017</td>\n",
       "      <td>Factual News</td>\n",
       "    </tr>\n",
       "    <tr>\n",
<<<<<<< HEAD
       "      <th>4</th>\n",
=======
       "      <th>41</th>\n",
>>>>>>> f5f037656f1bd01188f70546802a1a48de6bf00c
       "      <td>Britain says window to restore Northern Irelan...</td>\n",
       "      <td>BELFAST (Reuters) - Northern Ireland s politic...</td>\n",
       "      <td>September 4, 2017</td>\n",
       "      <td>Factual News</td>\n",
       "    </tr>\n",
       "  </tbody>\n",
       "</table>\n",
       "</div>"
      ],
      "text/plain": [
<<<<<<< HEAD
       "                                               title  \\\n",
       "0  HOLLYWEIRD LIB SUSAN SARANDON Compares Muslim ...   \n",
       "1   Elijah Cummings Called Trump Out To His Face ...   \n",
       "2   Hillary Clinton Says Half Her Cabinet Will Be...   \n",
       "3  Russian bombing of U.S.-backed forces being di...   \n",
       "4  Britain says window to restore Northern Irelan...   \n",
       "\n",
       "                                                text                 date  \\\n",
       "0  There are two small problems with your analogy...         Dec 30, 2015   \n",
       "1  Buried in Trump s bonkers interview with New Y...        April 6, 2017   \n",
       "2  Women make up over 50 percent of this country,...       April 26, 2016   \n",
       "3  WASHINGTON (Reuters) - U.S. Defense Secretary ...  September 18, 2017    \n",
       "4  BELFAST (Reuters) - Northern Ireland s politic...   September 4, 2017    \n",
       "\n",
       "  fake_or_factual  \n",
       "0       Fake News  \n",
       "1       Fake News  \n",
       "2       Fake News  \n",
       "3    Factual News  \n",
       "4    Factual News  "
      ]
     },
     "execution_count": 4,
=======
       "                                                title  \\\n",
       "78  HOLLYWEIRD LIB SUSAN SARANDON Compares Muslim ...   \n",
       "52   Elijah Cummings Called Trump Out To His Face ...   \n",
       "4    Hillary Clinton Says Half Her Cabinet Will Be...   \n",
       "20  Russian bombing of U.S.-backed forces being di...   \n",
       "41  Britain says window to restore Northern Irelan...   \n",
       "\n",
       "                                                 text                 date  \\\n",
       "78  There are two small problems with your analogy...         Dec 30, 2015   \n",
       "52  Buried in Trump s bonkers interview with New Y...        April 6, 2017   \n",
       "4   Women make up over 50 percent of this country,...       April 26, 2016   \n",
       "20  WASHINGTON (Reuters) - U.S. Defense Secretary ...  September 18, 2017    \n",
       "41  BELFAST (Reuters) - Northern Ireland s politic...   September 4, 2017    \n",
       "\n",
       "   fake_or_factual  \n",
       "78       Fake News  \n",
       "52       Fake News  \n",
       "4        Fake News  \n",
       "20    Factual News  \n",
       "41    Factual News  "
      ]
     },
     "execution_count": 9,
>>>>>>> f5f037656f1bd01188f70546802a1a48de6bf00c
     "metadata": {},
     "output_type": "execute_result"
    }
   ],
   "source": [
    "data.head()"
   ]
  },
  {
   "cell_type": "code",
<<<<<<< HEAD
   "execution_count": 5,
   "metadata": {},
   "outputs": [
    {
     "name": "stdout",
     "output_type": "stream",
     "text": [
      "<class 'pandas.core.frame.DataFrame'>\n",
      "RangeIndex: 198 entries, 0 to 197\n",
      "Data columns (total 4 columns):\n",
      " #   Column           Non-Null Count  Dtype \n",
      "---  ------           --------------  ----- \n",
      " 0   title            198 non-null    object\n",
      " 1   text             198 non-null    object\n",
      " 2   date             198 non-null    object\n",
      " 3   fake_or_factual  198 non-null    object\n",
      "dtypes: object(4)\n",
      "memory usage: 6.3+ KB\n"
     ]
    }
   ],
=======
   "execution_count": null,
   "metadata": {},
   "outputs": [],
>>>>>>> f5f037656f1bd01188f70546802a1a48de6bf00c
   "source": [
    "data.info()"
   ]
  },
  {
   "cell_type": "code",
<<<<<<< HEAD
   "execution_count": 6,
   "metadata": {},
   "outputs": [
    {
     "data": {
      "text/plain": [
       "Text(0.5, 0, 'Classification')"
      ]
     },
     "execution_count": 6,
     "metadata": {},
     "output_type": "execute_result"
    },
    {
     "data": {
      "image/png": "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",
      "text/plain": [
       "<Figure size 1200x800 with 1 Axes>"
      ]
     },
     "metadata": {},
     "output_type": "display_data"
    }
   ],
=======
   "execution_count": null,
   "metadata": {},
   "outputs": [],
>>>>>>> f5f037656f1bd01188f70546802a1a48de6bf00c
   "source": [
    "# plot number of fake and factual articles\n",
    "data['fake_or_factual'].value_counts().plot(kind='bar', color=default_plot_colour)\n",
    "plt.title('Count of Article Classification')\n",
    "plt.ylabel('# of Articles')\n",
    "plt.xlabel('Classification')"
   ]
  },
  {
   "cell_type": "markdown",
   "metadata": {},
   "source": [
    "## Import packages required for processing and analysis"
   ]
  },
  {
   "cell_type": "code",
<<<<<<< HEAD
   "execution_count": 7,
=======
   "execution_count": null,
>>>>>>> f5f037656f1bd01188f70546802a1a48de6bf00c
   "metadata": {},
   "outputs": [],
   "source": [
    "import seaborn as sns\n",
    "import spacy\n",
    "from spacy import displacy\n",
    "from spacy import tokenizer\n",
    "import re\n",
    "import nltk\n",
    "from nltk.tokenize import word_tokenize\n",
    "from nltk.stem import PorterStemmer, WordNetLemmatizer\n",
    "from nltk.corpus import stopwords\n",
    "from vaderSentiment.vaderSentiment import SentimentIntensityAnalyzer\n",
    "import gensim\n",
    "import gensim.corpora as corpora\n",
    "from gensim.models.coherencemodel import CoherenceModel\n",
    "from gensim.models import LsiModel, TfidfModel\n",
    "from sklearn.feature_extraction.text import TfidfVectorizer\n",
    "from sklearn.feature_extraction.text import CountVectorizer, TfidfVectorizer\n",
    "from sklearn.model_selection import train_test_split\n",
    "from sklearn.linear_model import LogisticRegression, SGDClassifier\n",
    "from sklearn.metrics import accuracy_score, classification_report"
   ]
  },
  {
   "cell_type": "markdown",
   "metadata": {},
   "source": [
    "## POS Tagging"
   ]
  },
  {
   "cell_type": "code",
<<<<<<< HEAD
   "execution_count": 8,
=======
   "execution_count": null,
>>>>>>> f5f037656f1bd01188f70546802a1a48de6bf00c
   "metadata": {},
   "outputs": [],
   "source": [
    "nlp = spacy.load('en_core_web_sm')"
   ]
  },
  {
   "cell_type": "code",
<<<<<<< HEAD
   "execution_count": 9,
=======
   "execution_count": null,
>>>>>>> f5f037656f1bd01188f70546802a1a48de6bf00c
   "metadata": {},
   "outputs": [],
   "source": [
    "# split data by fake and factual news\n",
    "fake_news = data[data['fake_or_factual'] == \"Fake News\"]\n",
    "fact_news = data[data['fake_or_factual'] == \"Factual News\"]"
   ]
  },
  {
   "cell_type": "code",
<<<<<<< HEAD
   "execution_count": 10,
=======
   "execution_count": null,
>>>>>>> f5f037656f1bd01188f70546802a1a48de6bf00c
   "metadata": {},
   "outputs": [],
   "source": [
    "# create spacey documents - use pipe for dataframe\n",
    "fake_spaceydocs = list(nlp.pipe(fake_news['text']))\n",
    "fact_spaceydocs = list(nlp.pipe(fact_news['text'])) "
   ]
  },
  {
   "cell_type": "code",
<<<<<<< HEAD
   "execution_count": 11,
=======
   "execution_count": null,
>>>>>>> f5f037656f1bd01188f70546802a1a48de6bf00c
   "metadata": {},
   "outputs": [],
   "source": [
    "# create function to extract tags for each document in our data\n",
    "def extract_token_tags(doc:spacy.tokens.doc.Doc):\n",
    "    return [(i.text, i.ent_type_, i.pos_) for i in doc]"
   ]
  },
  {
   "cell_type": "code",
<<<<<<< HEAD
   "execution_count": 12,
=======
   "execution_count": null,
>>>>>>> f5f037656f1bd01188f70546802a1a48de6bf00c
   "metadata": {},
   "outputs": [],
   "source": [
    "# tag fake dataset \n",
    "fake_tagsdf = []\n",
    "columns = [\"token\", \"ner_tag\", \"pos_tag\"]\n",
    "\n",
    "for ix, doc in enumerate(fake_spaceydocs):\n",
    "    tags = extract_token_tags(doc)\n",
    "    tags = pd.DataFrame(tags)\n",
    "    tags.columns = columns\n",
    "    fake_tagsdf.append(tags)\n",
    "        \n",
    "fake_tagsdf = pd.concat(fake_tagsdf)   \n",
    "\n",
    "# tag factual dataset \n",
    "fact_tagsdf = []\n",
    "\n",
    "for ix, doc in enumerate(fact_spaceydocs):\n",
    "    tags = extract_token_tags(doc)\n",
    "    tags = pd.DataFrame(tags)\n",
    "    tags.columns = columns\n",
    "    fact_tagsdf.append(tags)\n",
    "        \n",
    "fact_tagsdf = pd.concat(fact_tagsdf)   "
   ]
  },
  {
   "cell_type": "code",
<<<<<<< HEAD
   "execution_count": 13,
   "metadata": {},
   "outputs": [
    {
     "data": {
      "text/html": [
       "<div>\n",
       "<style scoped>\n",
       "    .dataframe tbody tr th:only-of-type {\n",
       "        vertical-align: middle;\n",
       "    }\n",
       "\n",
       "    .dataframe tbody tr th {\n",
       "        vertical-align: top;\n",
       "    }\n",
       "\n",
       "    .dataframe thead th {\n",
       "        text-align: right;\n",
       "    }\n",
       "</style>\n",
       "<table border=\"1\" class=\"dataframe\">\n",
       "  <thead>\n",
       "    <tr style=\"text-align: right;\">\n",
       "      <th></th>\n",
       "      <th>token</th>\n",
       "      <th>ner_tag</th>\n",
       "      <th>pos_tag</th>\n",
       "    </tr>\n",
       "  </thead>\n",
       "  <tbody>\n",
       "    <tr>\n",
       "      <th>0</th>\n",
       "      <td>There</td>\n",
       "      <td></td>\n",
       "      <td>PRON</td>\n",
       "    </tr>\n",
       "    <tr>\n",
       "      <th>1</th>\n",
       "      <td>are</td>\n",
       "      <td></td>\n",
       "      <td>VERB</td>\n",
       "    </tr>\n",
       "    <tr>\n",
       "      <th>2</th>\n",
       "      <td>two</td>\n",
       "      <td>CARDINAL</td>\n",
       "      <td>NUM</td>\n",
       "    </tr>\n",
       "    <tr>\n",
       "      <th>3</th>\n",
       "      <td>small</td>\n",
       "      <td></td>\n",
       "      <td>ADJ</td>\n",
       "    </tr>\n",
       "    <tr>\n",
       "      <th>4</th>\n",
       "      <td>problems</td>\n",
       "      <td></td>\n",
       "      <td>NOUN</td>\n",
       "    </tr>\n",
       "  </tbody>\n",
       "</table>\n",
       "</div>"
      ],
      "text/plain": [
       "      token   ner_tag pos_tag\n",
       "0     There              PRON\n",
       "1       are              VERB\n",
       "2       two  CARDINAL     NUM\n",
       "3     small               ADJ\n",
       "4  problems              NOUN"
      ]
     },
     "execution_count": 13,
     "metadata": {},
     "output_type": "execute_result"
    }
   ],
=======
   "execution_count": null,
   "metadata": {},
   "outputs": [],
>>>>>>> f5f037656f1bd01188f70546802a1a48de6bf00c
   "source": [
    "fake_tagsdf.head()"
   ]
  },
  {
   "cell_type": "code",
<<<<<<< HEAD
   "execution_count": 14,
   "metadata": {},
   "outputs": [
    {
     "data": {
      "text/html": [
       "<div>\n",
       "<style scoped>\n",
       "    .dataframe tbody tr th:only-of-type {\n",
       "        vertical-align: middle;\n",
       "    }\n",
       "\n",
       "    .dataframe tbody tr th {\n",
       "        vertical-align: top;\n",
       "    }\n",
       "\n",
       "    .dataframe thead th {\n",
       "        text-align: right;\n",
       "    }\n",
       "</style>\n",
       "<table border=\"1\" class=\"dataframe\">\n",
       "  <thead>\n",
       "    <tr style=\"text-align: right;\">\n",
       "      <th></th>\n",
       "      <th>token</th>\n",
       "      <th>pos_tag</th>\n",
       "      <th>counts</th>\n",
       "    </tr>\n",
       "  </thead>\n",
       "  <tbody>\n",
       "    <tr>\n",
       "      <th>29</th>\n",
       "      <td>,</td>\n",
       "      <td>PUNCT</td>\n",
       "      <td>1908</td>\n",
       "    </tr>\n",
       "    <tr>\n",
       "      <th>7451</th>\n",
       "      <td>the</td>\n",
       "      <td>DET</td>\n",
       "      <td>1834</td>\n",
       "    </tr>\n",
       "    <tr>\n",
       "      <th>41</th>\n",
       "      <td>.</td>\n",
       "      <td>PUNCT</td>\n",
       "      <td>1530</td>\n",
       "    </tr>\n",
       "    <tr>\n",
       "      <th>5766</th>\n",
       "      <td>of</td>\n",
       "      <td>ADP</td>\n",
       "      <td>922</td>\n",
       "    </tr>\n",
       "    <tr>\n",
       "      <th>2665</th>\n",
       "      <td>and</td>\n",
       "      <td>CCONJ</td>\n",
       "      <td>875</td>\n",
       "    </tr>\n",
       "    <tr>\n",
       "      <th>2449</th>\n",
       "      <td>a</td>\n",
       "      <td>DET</td>\n",
       "      <td>805</td>\n",
       "    </tr>\n",
       "    <tr>\n",
       "      <th>0</th>\n",
       "      <td></td>\n",
       "      <td>SPACE</td>\n",
       "      <td>795</td>\n",
       "    </tr>\n",
       "    <tr>\n",
       "      <th>7528</th>\n",
       "      <td>to</td>\n",
       "      <td>PART</td>\n",
       "      <td>767</td>\n",
       "    </tr>\n",
       "    <tr>\n",
       "      <th>4921</th>\n",
       "      <td>in</td>\n",
       "      <td>ADP</td>\n",
       "      <td>668</td>\n",
       "    </tr>\n",
       "    <tr>\n",
       "      <th>5099</th>\n",
       "      <td>is</td>\n",
       "      <td>AUX</td>\n",
       "      <td>419</td>\n",
       "    </tr>\n",
       "  </tbody>\n",
       "</table>\n",
       "</div>"
      ],
      "text/plain": [
       "     token pos_tag  counts\n",
       "29       ,   PUNCT    1908\n",
       "7451   the     DET    1834\n",
       "41       .   PUNCT    1530\n",
       "5766    of     ADP     922\n",
       "2665   and   CCONJ     875\n",
       "2449     a     DET     805\n",
       "0            SPACE     795\n",
       "7528    to    PART     767\n",
       "4921    in     ADP     668\n",
       "5099    is     AUX     419"
      ]
     },
     "execution_count": 14,
     "metadata": {},
     "output_type": "execute_result"
    }
   ],
=======
   "execution_count": null,
   "metadata": {},
   "outputs": [],
>>>>>>> f5f037656f1bd01188f70546802a1a48de6bf00c
   "source": [
    "# token frequency count (fake)\n",
    "pos_counts_fake = fake_tagsdf.groupby(['token','pos_tag']).size().reset_index(name='counts').sort_values(by='counts', ascending=False)\n",
    "pos_counts_fake.head(10)"
   ]
  },
  {
   "cell_type": "code",
<<<<<<< HEAD
   "execution_count": 15,
   "metadata": {},
   "outputs": [
    {
     "data": {
      "text/html": [
       "<div>\n",
       "<style scoped>\n",
       "    .dataframe tbody tr th:only-of-type {\n",
       "        vertical-align: middle;\n",
       "    }\n",
       "\n",
       "    .dataframe tbody tr th {\n",
       "        vertical-align: top;\n",
       "    }\n",
       "\n",
       "    .dataframe thead th {\n",
       "        text-align: right;\n",
       "    }\n",
       "</style>\n",
       "<table border=\"1\" class=\"dataframe\">\n",
       "  <thead>\n",
       "    <tr style=\"text-align: right;\">\n",
       "      <th></th>\n",
       "      <th>token</th>\n",
       "      <th>pos_tag</th>\n",
       "      <th>counts</th>\n",
       "    </tr>\n",
       "  </thead>\n",
       "  <tbody>\n",
       "    <tr>\n",
       "      <th>6145</th>\n",
       "      <td>the</td>\n",
       "      <td>DET</td>\n",
       "      <td>1903</td>\n",
       "    </tr>\n",
       "    <tr>\n",
       "      <th>14</th>\n",
       "      <td>,</td>\n",
       "      <td>PUNCT</td>\n",
       "      <td>1698</td>\n",
       "    </tr>\n",
       "    <tr>\n",
       "      <th>21</th>\n",
       "      <td>.</td>\n",
       "      <td>PUNCT</td>\n",
       "      <td>1382</td>\n",
       "    </tr>\n",
       "    <tr>\n",
       "      <th>4716</th>\n",
       "      <td>of</td>\n",
       "      <td>ADP</td>\n",
       "      <td>884</td>\n",
       "    </tr>\n",
       "    <tr>\n",
       "      <th>1898</th>\n",
       "      <td>a</td>\n",
       "      <td>DET</td>\n",
       "      <td>789</td>\n",
       "    </tr>\n",
       "    <tr>\n",
       "      <th>2093</th>\n",
       "      <td>and</td>\n",
       "      <td>CCONJ</td>\n",
       "      <td>757</td>\n",
       "    </tr>\n",
       "    <tr>\n",
       "      <th>4005</th>\n",
       "      <td>in</td>\n",
       "      <td>ADP</td>\n",
       "      <td>671</td>\n",
       "    </tr>\n",
       "    <tr>\n",
       "      <th>6205</th>\n",
       "      <td>to</td>\n",
       "      <td>PART</td>\n",
       "      <td>660</td>\n",
       "    </tr>\n",
       "    <tr>\n",
       "      <th>4743</th>\n",
       "      <td>on</td>\n",
       "      <td>ADP</td>\n",
       "      <td>482</td>\n",
       "    </tr>\n",
       "    <tr>\n",
       "      <th>5567</th>\n",
       "      <td>said</td>\n",
       "      <td>VERB</td>\n",
       "      <td>451</td>\n",
       "    </tr>\n",
       "  </tbody>\n",
       "</table>\n",
       "</div>"
      ],
      "text/plain": [
       "     token pos_tag  counts\n",
       "6145   the     DET    1903\n",
       "14       ,   PUNCT    1698\n",
       "21       .   PUNCT    1382\n",
       "4716    of     ADP     884\n",
       "1898     a     DET     789\n",
       "2093   and   CCONJ     757\n",
       "4005    in     ADP     671\n",
       "6205    to    PART     660\n",
       "4743    on     ADP     482\n",
       "5567  said    VERB     451"
      ]
     },
     "execution_count": 15,
     "metadata": {},
     "output_type": "execute_result"
    }
   ],
=======
   "execution_count": null,
   "metadata": {},
   "outputs": [],
>>>>>>> f5f037656f1bd01188f70546802a1a48de6bf00c
   "source": [
    "# token frequency count (fact)\n",
    "pos_counts_fact = fact_tagsdf.groupby(['token','pos_tag']).size().reset_index(name='counts').sort_values(by='counts', ascending=False)\n",
    "pos_counts_fact.head(10)"
   ]
  },
  {
   "cell_type": "code",
<<<<<<< HEAD
   "execution_count": 16,
   "metadata": {},
   "outputs": [
    {
     "data": {
      "text/plain": [
       "pos_tag\n",
       "NOUN     2586\n",
       "VERB     1817\n",
       "PROPN    1672\n",
       "ADJ       882\n",
       "ADV       413\n",
       "NUM       221\n",
       "PRON       96\n",
       "ADP        89\n",
       "AUX        62\n",
       "SCONJ      51\n",
       "Name: token, dtype: int64"
      ]
     },
     "execution_count": 16,
     "metadata": {},
     "output_type": "execute_result"
    }
   ],
=======
   "execution_count": null,
   "metadata": {},
   "outputs": [],
>>>>>>> f5f037656f1bd01188f70546802a1a48de6bf00c
   "source": [
    "# frequencies of pos tags\n",
    "pos_counts_fake.groupby(['pos_tag'])['token'].count().sort_values(ascending=False).head(10)"
   ]
  },
  {
   "cell_type": "code",
<<<<<<< HEAD
   "execution_count": 17,
   "metadata": {},
   "outputs": [
    {
     "data": {
      "text/plain": [
       "pos_tag\n",
       "NOUN     2179\n",
       "VERB     1539\n",
       "PROPN    1379\n",
       "ADJ       747\n",
       "ADV       263\n",
       "NUM       205\n",
       "PRON       79\n",
       "ADP        70\n",
       "AUX        43\n",
       "SCONJ      42\n",
       "Name: token, dtype: int64"
      ]
     },
     "execution_count": 17,
     "metadata": {},
     "output_type": "execute_result"
    }
   ],
=======
   "execution_count": null,
   "metadata": {},
   "outputs": [],
>>>>>>> f5f037656f1bd01188f70546802a1a48de6bf00c
   "source": [
    "pos_counts_fact.groupby(['pos_tag'])['token'].count().sort_values(ascending=False).head(10)"
   ]
  },
  {
   "cell_type": "code",
<<<<<<< HEAD
   "execution_count": 18,
   "metadata": {},
   "outputs": [
    {
     "data": {
      "text/html": [
       "<div>\n",
       "<style scoped>\n",
       "    .dataframe tbody tr th:only-of-type {\n",
       "        vertical-align: middle;\n",
       "    }\n",
       "\n",
       "    .dataframe tbody tr th {\n",
       "        vertical-align: top;\n",
       "    }\n",
       "\n",
       "    .dataframe thead th {\n",
       "        text-align: right;\n",
       "    }\n",
       "</style>\n",
       "<table border=\"1\" class=\"dataframe\">\n",
       "  <thead>\n",
       "    <tr style=\"text-align: right;\">\n",
       "      <th></th>\n",
       "      <th>token</th>\n",
       "      <th>pos_tag</th>\n",
       "      <th>counts</th>\n",
       "    </tr>\n",
       "  </thead>\n",
       "  <tbody>\n",
       "    <tr>\n",
       "      <th>5981</th>\n",
       "      <td>people</td>\n",
       "      <td>NOUN</td>\n",
       "      <td>77</td>\n",
       "    </tr>\n",
       "    <tr>\n",
       "      <th>7349</th>\n",
       "      <td>t</td>\n",
       "      <td>NOUN</td>\n",
       "      <td>65</td>\n",
       "    </tr>\n",
       "    <tr>\n",
       "      <th>6216</th>\n",
       "      <td>president</td>\n",
       "      <td>NOUN</td>\n",
       "      <td>58</td>\n",
       "    </tr>\n",
       "    <tr>\n",
       "      <th>7960</th>\n",
       "      <td>women</td>\n",
       "      <td>NOUN</td>\n",
       "      <td>55</td>\n",
       "    </tr>\n",
       "    <tr>\n",
       "      <th>7516</th>\n",
       "      <td>time</td>\n",
       "      <td>NOUN</td>\n",
       "      <td>52</td>\n",
       "    </tr>\n",
       "    <tr>\n",
       "      <th>3138</th>\n",
       "      <td>campaign</td>\n",
       "      <td>NOUN</td>\n",
       "      <td>44</td>\n",
       "    </tr>\n",
       "    <tr>\n",
       "      <th>8011</th>\n",
       "      <td>year</td>\n",
       "      <td>NOUN</td>\n",
       "      <td>44</td>\n",
       "    </tr>\n",
       "    <tr>\n",
       "      <th>4581</th>\n",
       "      <td>government</td>\n",
       "      <td>NOUN</td>\n",
       "      <td>41</td>\n",
       "    </tr>\n",
       "    <tr>\n",
       "      <th>5213</th>\n",
       "      <td>law</td>\n",
       "      <td>NOUN</td>\n",
       "      <td>40</td>\n",
       "    </tr>\n",
       "    <tr>\n",
       "      <th>8013</th>\n",
       "      <td>years</td>\n",
       "      <td>NOUN</td>\n",
       "      <td>40</td>\n",
       "    </tr>\n",
       "    <tr>\n",
       "      <th>7165</th>\n",
       "      <td>state</td>\n",
       "      <td>NOUN</td>\n",
       "      <td>38</td>\n",
       "    </tr>\n",
       "    <tr>\n",
       "      <th>4012</th>\n",
       "      <td>election</td>\n",
       "      <td>NOUN</td>\n",
       "      <td>37</td>\n",
       "    </tr>\n",
       "    <tr>\n",
       "      <th>3643</th>\n",
       "      <td>day</td>\n",
       "      <td>NOUN</td>\n",
       "      <td>35</td>\n",
       "    </tr>\n",
       "    <tr>\n",
       "      <th>5482</th>\n",
       "      <td>media</td>\n",
       "      <td>NOUN</td>\n",
       "      <td>35</td>\n",
       "    </tr>\n",
       "    <tr>\n",
       "      <th>3538</th>\n",
       "      <td>country</td>\n",
       "      <td>NOUN</td>\n",
       "      <td>33</td>\n",
       "    </tr>\n",
       "  </tbody>\n",
       "</table>\n",
       "</div>"
      ],
      "text/plain": [
       "           token pos_tag  counts\n",
       "5981      people    NOUN      77\n",
       "7349           t    NOUN      65\n",
       "6216   president    NOUN      58\n",
       "7960       women    NOUN      55\n",
       "7516        time    NOUN      52\n",
       "3138    campaign    NOUN      44\n",
       "8011        year    NOUN      44\n",
       "4581  government    NOUN      41\n",
       "5213         law    NOUN      40\n",
       "8013       years    NOUN      40\n",
       "7165       state    NOUN      38\n",
       "4012    election    NOUN      37\n",
       "3643         day    NOUN      35\n",
       "5482       media    NOUN      35\n",
       "3538     country    NOUN      33"
      ]
     },
     "execution_count": 18,
     "metadata": {},
     "output_type": "execute_result"
    }
   ],
=======
   "execution_count": null,
   "metadata": {},
   "outputs": [],
>>>>>>> f5f037656f1bd01188f70546802a1a48de6bf00c
   "source": [
    "# dive into diferences in nouns\n",
    "pos_counts_fake[pos_counts_fake.pos_tag == \"NOUN\"][0:15]"
   ]
  },
  {
   "cell_type": "code",
<<<<<<< HEAD
   "execution_count": 19,
   "metadata": {},
   "outputs": [
    {
     "data": {
      "text/html": [
       "<div>\n",
       "<style scoped>\n",
       "    .dataframe tbody tr th:only-of-type {\n",
       "        vertical-align: middle;\n",
       "    }\n",
       "\n",
       "    .dataframe tbody tr th {\n",
       "        vertical-align: top;\n",
       "    }\n",
       "\n",
       "    .dataframe thead th {\n",
       "        text-align: right;\n",
       "    }\n",
       "</style>\n",
       "<table border=\"1\" class=\"dataframe\">\n",
       "  <thead>\n",
       "    <tr style=\"text-align: right;\">\n",
       "      <th></th>\n",
       "      <th>token</th>\n",
       "      <th>pos_tag</th>\n",
       "      <th>counts</th>\n",
       "    </tr>\n",
       "  </thead>\n",
       "  <tbody>\n",
       "    <tr>\n",
       "      <th>3738</th>\n",
       "      <td>government</td>\n",
       "      <td>NOUN</td>\n",
       "      <td>71</td>\n",
       "    </tr>\n",
       "    <tr>\n",
       "      <th>6618</th>\n",
       "      <td>year</td>\n",
       "      <td>NOUN</td>\n",
       "      <td>64</td>\n",
       "    </tr>\n",
       "    <tr>\n",
       "      <th>5901</th>\n",
       "      <td>state</td>\n",
       "      <td>NOUN</td>\n",
       "      <td>57</td>\n",
       "    </tr>\n",
       "    <tr>\n",
       "      <th>2360</th>\n",
       "      <td>bill</td>\n",
       "      <td>NOUN</td>\n",
       "      <td>55</td>\n",
       "    </tr>\n",
       "    <tr>\n",
       "      <th>1975</th>\n",
       "      <td>administration</td>\n",
       "      <td>NOUN</td>\n",
       "      <td>51</td>\n",
       "    </tr>\n",
       "    <tr>\n",
       "      <th>5066</th>\n",
       "      <td>president</td>\n",
       "      <td>NOUN</td>\n",
       "      <td>49</td>\n",
       "    </tr>\n",
       "    <tr>\n",
       "      <th>3277</th>\n",
       "      <td>election</td>\n",
       "      <td>NOUN</td>\n",
       "      <td>48</td>\n",
       "    </tr>\n",
       "    <tr>\n",
       "      <th>4919</th>\n",
       "      <td>people</td>\n",
       "      <td>NOUN</td>\n",
       "      <td>45</td>\n",
       "    </tr>\n",
       "    <tr>\n",
       "      <th>4786</th>\n",
       "      <td>order</td>\n",
       "      <td>NOUN</td>\n",
       "      <td>45</td>\n",
       "    </tr>\n",
       "    <tr>\n",
       "      <th>4259</th>\n",
       "      <td>law</td>\n",
       "      <td>NOUN</td>\n",
       "      <td>42</td>\n",
       "    </tr>\n",
       "    <tr>\n",
       "      <th>2497</th>\n",
       "      <td>campaign</td>\n",
       "      <td>NOUN</td>\n",
       "      <td>42</td>\n",
       "    </tr>\n",
       "    <tr>\n",
       "      <th>6095</th>\n",
       "      <td>tax</td>\n",
       "      <td>NOUN</td>\n",
       "      <td>39</td>\n",
       "    </tr>\n",
       "    <tr>\n",
       "      <th>5396</th>\n",
       "      <td>reporters</td>\n",
       "      <td>NOUN</td>\n",
       "      <td>38</td>\n",
       "    </tr>\n",
       "    <tr>\n",
       "      <th>5905</th>\n",
       "      <td>statement</td>\n",
       "      <td>NOUN</td>\n",
       "      <td>37</td>\n",
       "    </tr>\n",
       "    <tr>\n",
       "      <th>2873</th>\n",
       "      <td>court</td>\n",
       "      <td>NOUN</td>\n",
       "      <td>37</td>\n",
       "    </tr>\n",
       "  </tbody>\n",
       "</table>\n",
       "</div>"
      ],
      "text/plain": [
       "               token pos_tag  counts\n",
       "3738      government    NOUN      71\n",
       "6618            year    NOUN      64\n",
       "5901           state    NOUN      57\n",
       "2360            bill    NOUN      55\n",
       "1975  administration    NOUN      51\n",
       "5066       president    NOUN      49\n",
       "3277        election    NOUN      48\n",
       "4919          people    NOUN      45\n",
       "4786           order    NOUN      45\n",
       "4259             law    NOUN      42\n",
       "2497        campaign    NOUN      42\n",
       "6095             tax    NOUN      39\n",
       "5396       reporters    NOUN      38\n",
       "5905       statement    NOUN      37\n",
       "2873           court    NOUN      37"
      ]
     },
     "execution_count": 19,
     "metadata": {},
     "output_type": "execute_result"
    }
   ],
=======
   "execution_count": null,
   "metadata": {},
   "outputs": [],
>>>>>>> f5f037656f1bd01188f70546802a1a48de6bf00c
   "source": [
    "pos_counts_fact[pos_counts_fact.pos_tag == \"NOUN\"][0:15]"
   ]
  },
  {
   "cell_type": "markdown",
   "metadata": {},
   "source": [
    "## Named Entities"
   ]
  },
  {
   "cell_type": "code",
<<<<<<< HEAD
   "execution_count": 20,
=======
   "execution_count": null,
>>>>>>> f5f037656f1bd01188f70546802a1a48de6bf00c
   "metadata": {},
   "outputs": [],
   "source": [
    "# top entities in fake news\n",
    "top_entities_fake = fake_tagsdf[fake_tagsdf['ner_tag'] != \"\"] \\\n",
    "                    .groupby(['token','ner_tag']).size().reset_index(name='counts') \\\n",
    "                    .sort_values(by='counts', ascending=False)"
   ]
  },
  {
   "cell_type": "code",
<<<<<<< HEAD
   "execution_count": 21,
=======
   "execution_count": null,
>>>>>>> f5f037656f1bd01188f70546802a1a48de6bf00c
   "metadata": {},
   "outputs": [],
   "source": [
    "# top entities in fact news\n",
    "top_entities_fact = fact_tagsdf[fact_tagsdf['ner_tag'] != \"\"] \\\n",
    "                    .groupby(['token','ner_tag']).size().reset_index(name='counts') \\\n",
    "                    .sort_values(by='counts', ascending=False)"
   ]
  },
  {
   "cell_type": "code",
<<<<<<< HEAD
   "execution_count": 22,
=======
   "execution_count": null,
>>>>>>> f5f037656f1bd01188f70546802a1a48de6bf00c
   "metadata": {},
   "outputs": [],
   "source": [
    "# create custom palette to ensure plots are consistent\n",
    "ner_palette = {\n",
    "    'ORG': sns.color_palette(\"Set2\").as_hex()[0],\n",
    "    'GPE': sns.color_palette(\"Set2\").as_hex()[1],\n",
    "    'NORP': sns.color_palette(\"Set2\").as_hex()[2],\n",
    "    'PERSON': sns.color_palette(\"Set2\").as_hex()[3],\n",
    "    'DATE': sns.color_palette(\"Set2\").as_hex()[4],\n",
    "    'CARDINAL': sns.color_palette(\"Set2\").as_hex()[5],\n",
    "    'PERCENT': sns.color_palette(\"Set2\").as_hex()[6]\n",
    "}"
   ]
  },
  {
   "cell_type": "code",
<<<<<<< HEAD
   "execution_count": 23,
   "metadata": {},
   "outputs": [
    {
     "data": {
      "text/plain": [
       "[Text(0.5, 1.0, 'Most Common Entities in Fake News')]"
      ]
     },
     "execution_count": 23,
     "metadata": {},
     "output_type": "execute_result"
    },
    {
     "data": {
      "image/png": "iVBORw0KGgoAAAANSUhEUgAABAkAAAK9CAYAAABGjDXYAAAAOnRFWHRTb2Z0d2FyZQBNYXRwbG90bGliIHZlcnNpb24zLjEwLjAsIGh0dHBzOi8vbWF0cGxvdGxpYi5vcmcvlHJYcgAAAAlwSFlzAAAPYQAAD2EBqD+naQAAYVBJREFUeJzt3QeYVNX9P/6z0tuCYAEVRcSGiA27X7FGE3vXqIglRmzYldhjFEuwxa6xG7H3LooRu1GsiA0FFcSogA1EmP/zOfnP/HZhwQWBLbxezzPuzp07d87M3ZU973vO55QVCoVCAgAAAOZ7C9R0AwAAAIDaQUgAAAAAZEICAAAAIBMSAAAAAJmQAAAAAMiEBAAAAEAmJAAAAAAyIQEAAACQCQkAAACATEgAANQpZWVl6bTTTqvWvp06dUq9e/dOtbV981J8Di1btqzpZgBQywkJAJijrr/++txJituQIUOme7xQKKSOHTvmx7feeuu50oYvvvgid9KGDh06S8/76KOP0p///OfUuXPn1LRp01ReXp7WX3/9dNFFF6WffvpprrS1vp3zqm4vvvjiLB/z4YcfrnZH+/nnn8/7jhs3LtVH0bmf0Wf76KOPptokQplo12GHHTbdY4MHD86P3XnnnTXSNgCqp2E19wOAWRKd7H/9619pgw02qLT9mWeeSZ999llq0qTJXHvtCAlOP/303GFZddVVq/Wchx56KO2yyy65Xb169UrdunVLP//8cw46jj322PTOO++kq666aq61uT7461//mpZeeunptnfp0mW2QoJLL720yqAgApuGDRtWCgnifEdnuk2bNpX2HT58eFpggXl7TWTa9s0J8XN5zTXXTLd9lVVWSbXR1Vdfnfr165cWW2yxmm4KALNISADAXPGHP/wh3XHHHeniiy+u1GGK4GCNNdZI//3vf1NtMWLEiLT77runpZZaKj311FOpQ4cOpccOOeSQ9OGHH+YQgZn7/e9/n3r06DFPAqjqmpth1JxoX3XF79Bee+2V6oKVVlophzNnn312/v0HoG4x3QCAuWKPPfZIX3/9dXriiSdK2+LKfAw1/uMf/1jlc3744Yd09NFH5+kI0blbfvnl09///vc8RaGiOGaMUIirxjHHOvb7y1/+UhrSvOaaa+bv991339Kw7BgSPyPnnntu+v7779M///nPSgFBxSvhffv2Ld3/5Zdf0hlnnJGWWWaZ3M4YsRCvP2nSpErPi+0xpSLaFJ3nZs2apZVXXjnfD3fffXe+H53KCE5ef/31KueQjxw5Mh8nvl988cXzFfbw1ltvpU022SS1aNEiBxwRwEzr448/ziMk2rZtm5o3b57WWWed6QKP4jDw22+/PZ155plpiSWWyG3adNNNc0Ayp3zyySf5deKcxqiM4ucX5+uVV16p9L6L77Hi0Pqq5vzH1xjpEWIUQ3HfeK0Z1SSIaQlHHHFE6ecszu8555yTpk6dWmm/gQMH5vPSqlWrPPUkzlVMPZnVmgTxfWyLz7I42qF169b55/PHH39Mv9Wzzz6bz/GSSy6Z30+8ryOPPLJaU2RiSs7CCy+cNtpoo/w7ED7//PO03377pUUXXTQfLzr91157bbXbE595jMaJ0QQxqufX/Nrrxe//QgstlI466qjStjhX8Tk2aNCg0jSTOI8RqBTfy5gxY/LnHD/Tcez4/d5uu+1KPx8ATM9IAgDmiugorLvuuunWW2/NV5jDI488ksaPH5+v2k97hTE6Attuu216+umn0/7775+nCTz22GO5AxidiAsuuCDvF8P+o8PcvXv3PLw9/vCPztdzzz2XH19xxRXz9lNOOSUdeOCB6f/+7//y9vXWW2+GbX3ggQdyHYKZ7VPRAQcckG644Ya0884751DjpZdeSv3790/Dhg1L99xzT6V9o20RikStg7gSHB3kbbbZJl1xxRU5WDj44IPzfvH8XXfddbrh8VOmTMmf34YbbpjDjFtuuSUdeuihORg48cQT05577pl23HHHfLzomMVnXhzy/+WXX+b3FB3Rww8/PLVr1y63Oz7nCGt22GGHSm2NK7/x2sccc0w+T/F6cfx4f9URz5l2hEh0juN1K4ow47vvvsufSTwerxPvIQKNRo0a5e3RuYww6Kabbprpa8bz3n///fxzFj8j0ZkM0fGtSnwWPXv2zD9T8TrRsY7pCjE0fvTo0enCCy/M+8VrR9AVQUl0PEOc3/g5qxgYzYo4v3Fu4ly/9tprefrAIossUjr+r5n2s43PKsKGGLET76tPnz75s3755ZfTP/7xjzytJx6bkQhmtthiixxg3XfffTnEip+ZCJLivMTPWXyO8Xsbv5MTJkzI4Up1xM/mjTfe+KujCarzevFY1Ab597//XXrem2++mX/e4uc1zslWW21VCkxWW221UoHGnXbaKf8/I2okxP+Txo4dm89tBG9xH4AqFABgDrruuuvisn/hlVdeKVxyySWFVq1aFX788cf82C677FLYeOON8/dLLbVUYauttio97957783P+9vf/lbpeDvvvHOhrKys8OGHH+b7F1xwQd7vq6++mmEb4rVjn2jLrxk/fnzed7vttqvW+xs6dGje/4ADDqi0/Zhjjsnbn3rqqdK2eI+x7fnnny9te+yxx/K2Zs2aFT799NPS9iuvvDJvf/rpp0vb9tlnn7ztrLPOKm379ttv83PjMxk4cGBp+3vvvZf3PfXUU0vbjjjiiLzt2WefLW377rvvCksvvXShU6dOhSlTpuRt8Zqx34orrliYNGlSad+LLroob3/rrbeqdc6rujVp0qS034gRI/K2du3aFb755pvS9vvuuy9vf+CBB0rbDjnkkLytKtO+z/POOy9vi+NPK85BfI5FZ5xxRqFFixaF999/v9J+J5xwQqFBgwaFkSNH5vt9+/YtlJeXF3755ZeZvvfqtC++j2377bdfpf122GGH/Fn8muLPwbS3nj175seLv18V9e/fP/+MVPwZi+PEew9DhgzJ7y9+BydOnFjaZ//99y906NCh8N///rfS8XbfffdC69atq3ytiir+Xu+7776Fpk2bFr744otKP2d33HHHLL9enOM4PxMmTMj3L7744vxaa621VuH444/P2+LnuU2bNoUjjzyy9LsSrxfPBaD6TDcAYK6JK6cx5PnBBx/MV47j64ymGkShuhg6HFe8K4or9dHviquLoViYLq58Tjs8fHbE1coQQ8qrI9oZKg59LrYzTDuUv2vXrvnqftHaa6+dv8Y0gbiKPe32uJpe1ciFonj/Mb0iRhLE51sU2+Kxis+Ptq611lqVikfGFdYYYRHDrd99991KrxPDshs3bly6XxyFUVWbqhJTBOIqbcVb8bxVtNtuu6UFF1xwtl/nt4gr6/F68fpxZb5422yzzfKojeLV6vgsY/pLxekyv9VBBx1U6X60I6bkFH8GZyamf0z72Q4YMCA/FiMAiqLN8X5iBEn83kw7hSXEaJ0YQRCjJGLKS7FuQ+x/11135ZEu8X3Fzyf2jyv3MQKiuk466aQ8NSdGE1RlVl4vPqs4PzHqozhiILbFLb4Pb7/9dp56UPx5is8lfp5jOs23335b7XYDzO9MNwBgromhw9H5iuHlMRw6/siPIfpV+fTTT3Ml9Gk76zF9oPh4sYMZw7Sj43zCCSfkjk4MOY/jzk4V+5hrHiLEqI5oR7zOtBX727dvnzuWxXYWVQwCQgwPDzFvvKrt03ZmonM47dD52DfmWFecp1/cXvH50ZZi+DCjzzRWcZhRW4sd+ep2sCKQqE7hwt/6Or/FBx98kIeqz2g6QgxHDzENJGo0xFSPqAPxu9/9LocyW2655Wy/9szed/HncEYiQIvfparE0PmYXnP//fdP9xlGR7uiiRMn5qH5UWsh3l/FoqJfffVV7mRHvYgZreRR/HyqI6bw7L333vlY8bs6rVl5vdVXXz3X1IhAIAKE+BorWsTvXUytiPdVDAuKoViEHzGVIwK8qHcQ0xpiqlJMy4nnAVA1IQEAc1WMHPjTn/6UC4hFh2vaJepmVVwdjKu9cTU0rtrHOvG33XZbvjL/+OOP587UrIjOWYQTcRVyVkzbQZ+RGbVnRtunLdL4W58/K+bGMWvydaoSo08233zzdNxxx1X5+HLLLZe/Rq2AKOoXdTFiNETcrrvuutzBjLoOteV9R/AW7+ebb75Jxx9/fFphhRXyKJOouRBFEqcdbRMd51h5JEbixO9OdJqLivtG7Yx99tmnyteLWiCzImoTRF2J6Kxvv/32lR6bldeL+gsReMXvftT5iP+fxIiB6PxPnjw5182IkCDef8UAKGoaxEiFe++9N5/Lk08+OdeEiFVMonYBANMTEgAwV0VxvCgQ9+KLL+bO/IxEdf4nn3wyX9GvOJrgvffeKz1eFFfyYwRB3M4///x01lln5c5IBAdxtbW6Hfii6CjFlcwXXnih0tSAGbUzOjdxRbp4Rb5YgC2uilZsZ02LtkQhxGlV9ZnWNrNyDmdl31hRISrfz+iqfEUxVD06mHGLcx6jC6688src0Zx2JElNiRUuonBjBBcRYBTNaJpEfFZR/DIq/MeKCBF+xMoGITrX8bsXwUN1Pp/qft4RAsTnNu2olll9vQgFImyI/09EgcoIBOL9xGoIERDErWLoUbENMZogbvF7G0VRY6rGzTffPEfeI0B9oyYBAHNVzIG//PLL8zJw0dmakbi6GZ2FSy65pNL2qFgfHYHiCglxxXRa8Ud/KC5BGFdSQ8Wl0WYmrirHc2IKQ3T2p/XRRx+Vlr6LdoZiFfyiCCtCscp6bRBtjUr3EX5UnLMegUhUdo96CbXVrJzDWdk3pgzE5xFXlacVz4859CFqBVQUwVTxqva0S13WpOLohIqjEeL7mS3VGOFH1CKIpSfjdzJ+RorHitUAok5AVSNrYnrA7IjaBHG1P1axmLbts/J6ERLEZx+/ezGloBgOxfYYrRArYhTrEYSY4hTTEKYNDCKYqE3nEKC2MZIAgLluRkOJK4rOysYbb5xHBERRvVVWWSVPH4hh0TFkOP64D7G8YQw5js54XAmPOcuXXXZZnqNfnIsc+8a0hlgWMDoE0YmMq5jFpQGnFftH3YSodxCjA+KKbMzV//nnn3OhtCh2F0O3Q7Qr3k90tKNTGcvpRScrruTGcOp4D7VFzAMvLkEZBSHbtm2b2zlixIjcMZudGg4zE1eli6MUKooiejE/fVbEnPkQ7Y456NGhjKUzZ7Zv/OzEPjE0PX6eiuFBRbGkZszdjyvOcU7juRGcxBX5WBYyfvbiKnUERhFIxTSW+NmK+g0x9z0CqYojSGpaXE2Pn99YtjKmGMT0mTi3v1bfIabtRCHReH/x8/HMM8/kn/koMhgjcuL3JaYJRZAUn0MUEIwr+FWFdNUdTVDVNI1Zeb0Y5RM1FGJ0TBTfLIrlQSOIDBVDghhhEaONIhiK48ZzY4nSCAJn9LMEgJAAgFoiOqzReYsCbDEtIeZ/x9Xu8847r7RyQNh2221zR+7aa6/NVdCjQxcd9ShiViz+F53E6JD069cvV5SPq8NxvBmFBMXjRkG7eL0IJqLTEfO34+pxDE2ODkxRFE6MTu/111+fOx1RBC1e69RTT021SczXjpAj5qoXi7vF+3nggQfmyoiHOHdVic9+VkOCKEYZa9sPHDgwDwuPq+Mz6tjFFfEzzjgjh0Ixzz6mBkQQUlVIEMXvokMcU1Qi/LnxxhtzxzpqEVT8GYpObQRBEUBFGBTnOEKkGBEzp8OV3yJ+1uN8RpgSc+2j0GVM8Tn00ENzoDUz8b5jREV0sqOuQQzXj2kUEXpFGBejDeL9t2vXLg/pj6H+sytGE8R5jNFC0/6MVvf14nxGHYFXXnml0oodxWAgioFWnEIT9/fYY480aNCgPNIgQoIIVaJgY4xgAKBqZbEO4gweAwAAAOYjtScKBwAAAGqUkAAAAADIhAQAAABAJiQAAAAAMiEBAAAAkAkJAAAAgKzh/74wN8V6zV988UVq1apVKisrq+nmAAAAUM8VCoX03XffpcUWWywtsED1xwcICeaBCAg6duxY080AAABgPjNq1Ki0xBJLVHt/IcE8ECMIiienvLy8ppsDAABAPTdhwoR8sbrYH60uIcE8UJxiEAGBkAAAAIB5ZVanvCtcCAAAAGRCAgAAACATEgAAAACZkAAAAADIFC6ch/7yxK2pSfNmNd0MAAAAUkp9Pllqlvbv0qdnqu+MJAAAAAAyIQEAAACQCQkAAACATEgAAAAAZEICAAAAIBMSAAAAAJmQAAAAAMiEBAAAAEAmJAAAAAAyIQEAAACQCQkAAACATEgAAAAAZEICAAAAIBMSAAAAAJmQAAAAAMiEBAAAAEAmJAAAAAAyIQEAAACQCQkAAACATEgAAAAAZEICAAAAIBMSAAAAALU3JCgrK5vp7bTTTqvpJgIAAEC90zDVQqNHjy59f9ttt6VTTjklDR8+vLStZcuWpe8LhUKaMmVKatiwVr4VAAAAqDNq5UiC9u3bl26tW7fOoweK9997773UqlWr9Mgjj6Q11lgjNWnSJA0ZMiT17t07bb/99pWOc8QRR6SNNtqodD++P+yww/L2BRdcMC266KLp6quvTj/88EPad99983G7dOmSj100ePDg/PoPPfRQ6t69e2ratGlaZ5110ttvvz1PPxMAAACYL0OC6jjhhBPS2WefnYYNG5Y779V1ww03pIUWWii9/PLLOTDo06dP2mWXXdJ6662XXnvttfS73/0u7b333unHH3+s9Lxjjz02DRgwIL3yyitp4YUXTttss02aPHlyla8xadKkNGHChEo3AAAAqO3qbEjw17/+NW2++eZpmWWWSW3btq3281ZZZZV00kknpWWXXTb169cvjwyI0OBPf/pT3hZTG77++uv05ptvVnreqaeeml9v5ZVXzkHDl19+me65554qX6N///55BETx1rFjx9/8fgEAAGBuq7MhQY8ePWbreRVHHTRo0CC1a9cud/yLYgpCGDt2bKXnrbvuuqXvI5RYfvnl8yiGqkT4MH78+NJt1KhRs9VWAAAAmJfqbLW/Fi1aVLq/wAIL5CKGFVU1HaBRo0aV7ke9gYrb4n6YOnXqbLct6iTEDQAAAOqSOjuSYFpRJ6Diqghh6NChc+z4L774Yun7b7/9Nr3//vtpxRVXnGPHBwAAgJpWb0KCTTbZJL366qvpxhtvTB988EGuITAnVyCIGgiDBg3Kx4yVFKKOwbSrKQAAAEBdVm9Cgi222CKdfPLJ6bjjjktrrrlm+u6771KvXr3m2PFjJYW+ffvmZRfHjBmTHnjggdS4ceM5dnwAAACoaWWFaSfyU8ngwYPTxhtvnKcYtGnTZraOEUsgxioHh9x5RWrSvNkcbyMAAACzrs8nS83S/l369Ex1RbEfGsX0y8vL57+RBAAAAMBvIyQAAAAA6vYSiPPKRhttNN3SigAAAFAfGUkAAAAAZEICAAAAIBMSAAAAAJmQAAAAAMiEBAAAAEAmJAAAAAAyIQEAAACQCQkAAACATEgAAAAAZEICAAAAIBMSAAAAAJmQAAAAAMiEBAAAAEAmJAAAAAAyIQEAAACQCQkAAACATEgAAAAAZA3/94V54azN90jl5eU13QwAAACokpEEAAAAQCYkAAAAADIhAQAAAJAJCQAAAIBMSAAAAABkQgIAAAAgExIAAAAAmZAAAAAAyIQEAAAAQCYkAAAAADIhAQAAAJAJCQAAAIBMSAAAAABkDf/3hXnhL0/cmpo0b1bTzQAAgN9swO971XQTgLnASAIAAAAgExIAAAAAmZAAAAAAyIQEAAAAQCYkAAAAADIhAQAAAJAJCQAAAIBMSAAAAABkQgIAAAAgExIAAAAAmZAAAAAAyIQEAAAAQCYkAAAAADIhAQAAAJAJCQAAAIBMSAAAAABkQgIAAAAgExIAAAAAmZAAAAAAyIQEAAAAQCYkAAAAALL5OiQYPHhwKisrS+PGjavppgAAAECNm69Cgo022igdccQRNd0MAAAAqJXmq5AAAAAAmLH5JiTo3bt3euaZZ9JFF12UpxjE7ZNPPsmP/ec//0k9evRIzZs3T+utt14aPnx4pefed999afXVV09NmzZNnTt3Tqeffnr65ZdfauidAAAAwNwx34QEEQ6su+666U9/+lMaPXp0vnXs2DE/duKJJ6YBAwakV199NTVs2DDtt99+pec9++yzqVevXqlv377p3XffTVdeeWW6/vrr05lnnjnD15o0aVKaMGFCpRsAAADUdvNNSNC6devUuHHjPFqgffv2+dagQYP8WHT4e/bsmbp27ZpOOOGE9Pzzz6eJEyfmx2LUQGzbZ5998iiCzTffPJ1xxhk5LJiR/v3759cr3ophBAAAANRm801IMDPdu3cvfd+hQ4f8dezYsfnrG2+8kf7617+mli1blm7F0Qg//vhjlcfr169fGj9+fOk2atSoefROAAAAYPY1/A3PrTcaNWpU+j5qFYSpU6fmr99//30eTbDjjjtO97yoUVCVJk2a5BsAAADUJfNVSBDTDaZMmTJLz4mChVHIsEuXLnOtXQAAAFAbzFchQadOndJLL72UVzWIaQPF0QIzc8opp6Stt946LbnkkmnnnXdOCyywQJ6C8Pbbb6e//e1v86TdAAAAMC/MVzUJjjnmmFysMAoULrzwwmnkyJG/+pwtttgiPfjgg+nxxx9Pa665ZlpnnXXSBRdckJZaaql50mYAAACYV8oKhUJhnr3afCqWQIxVDg6584rUpHmzmm4OAAD8ZgN+36ummwBUox8axfTLy8tTdc1XIwkAAACAGRMSAAAAAJmQAAAAAMiEBAAAAEAmJAAAAAAyIQEAAACQCQkAAACATEgAAAAAZEICAAAAIBMSAAAAAJmQAAAAAMiEBAAAAEAmJAAAAAAyIQEAAACQCQkAAACATEgAAAAAZEICAAAAIBMSAAAAAJmQAAAAAMiEBAAAAEAmJAAAAACyhv/7wrxw1uZ7pPLy8ppuBgAAAFTJSAIAAAAgExIAAAAAmZAAAAAAyIQEAAAAQCYkAAAAADIhAQAAAJAJCQAAAIBMSAAAAABkQgIAAAAgExIAAAAAmZAAAAAAyIQEAAAAQNbwf1+YFz66Zkhq1axFTTcDAID5XJc+PWu6CUAtZSQBAAAAkAkJAAAAgExIAAAAAGRCAgAAACATEgAAAACZkAAAAADIhAQAAABAJiQAAAAAMiEBAAAAkAkJAAAAgExIAAAAAGRCAgAAACATEgAAAACZkAAAAADIhAQAAABAJiQAAAAAMiEBAAAAkAkJAAAAgExIAAAAAGRCAgAAACATEgAAAACZkAAAAACoWyFBWVlZuvfee/P3n3zySb4/dOjQmm4WAAAA1Bu1JiQYM2ZMOuyww1Lnzp1TkyZNUseOHdM222yTBg0aNN2+8djo0aNTt27dqn380047La266qpzuNUAAABQfzRMtUCMDFh//fVTmzZt0nnnnZdWXnnlNHny5PTYY4+lQw45JL333nuV9m/QoEFq3759jbUXAAAA6qNaMZLg4IMPztMHXn755bTTTjul5ZZbLq200krpqKOOSi+++OJ0+0873WDw4MH5fow66NGjR2revHlab7310vDhw/Pj119/fTr99NPTG2+8kfeLW2wLI0eOTNttt11q2bJlKi8vT7vuumv68ssvpxuBcNNNN6VOnTql1q1bp9133z1999138+zzAQAAgPkiJPjmm2/So48+mkcMtGjRYrrHY3RBdZ144olpwIAB6dVXX00NGzZM++23X96+2267paOPPjoHDzFNIW6xberUqTkgiDY888wz6Yknnkgff/xxfqyijz76KNdDePDBB/Mt9j377LNn2I5JkyalCRMmVLoBAABAbVfj0w0+/PDDVCgU0gorrPCbj3XmmWemnj175u9POOGEtNVWW6WJEyemZs2a5ZECERxUnKYQocBbb72VRowYkeschBtvvDGHCa+88kpac80187YIE2LkQatWrfL9vffeO49aiNerSv/+/fPIBQAAAKhLanwkQQQEc0r37t1L33fo0CF/HTt27Az3HzZsWA4HigFB6Nq1ax69EI8VxTSDYkBQPPbMjtuvX780fvz40m3UqFG/6X0BAADAfDGSYNlll801AqYtTjg7GjVqVPo+jlkcBTAnj1s89syOG6szxA0AAADqkhofSdC2bdu0xRZbpEsvvTT98MMP0z0+bty4OfI6jRs3TlOmTKm0bcUVV8xX+Ste6X/33Xfza8aIAgAAAJif1HhIECIgiA78Wmutle666670wQcf5OH+F198cVp33XXnyGvElIGoPRArIvz3v//NxQU322yzvNzinnvumV577bW8ukKvXr1yXYNYJQEAAADmJ7UiJOjcuXPupG+88cZ5FYJu3bqlzTffPBcHvPzyy+fIa8TSiltuuWV+jYUXXjjdeuutedrAfffdlxZccMG04YYb5tAg2nLbbbfNkdcEAACAuqSsMCcrB1KlWAKxdevW6bUBD6VWzaZf5hEAAOalLn3+tyIYUP/7oePHj0/l5eV1ayQBAAAAUPOEBAAAAEAmJAAAAAAyIQEAAACQCQkAAACATEgAAAAAZEICAAAAIBMSAAAAAJmQAAAAAMiEBAAAAEAmJAAAAAAyIQEAAACQCQkAAACATEgAAAAAZEICAAAAIBMSAAAAAJmQAAAAAMiEBAAAAEAmJAAAAAAyIQEAAACQNfzfF+aFZQ7YIJWXl9d0MwAAAKBKRhIAAAAAmZAAAAAAyIQEAAAAQCYkAAAAADIhAQAAAJAJCQAAAIBMSAAAAABkQgIAAAAgExIAAAAAmZAAAAAAyIQEAAAAQCYkAAAAADIhAQAAAJA1/N8X5oWPrhmSWjVrUdPNAIBq6dKnZ003AQCYx4wkAAAAADIhAQAAAJAJCQAAAIBMSAAAAABkQgIAAAAgExIAAAAAmZAAAAAAyIQEAAAAQCYkAAAAADIhAQAAAJAJCQAAAIBMSAAAAABkQgIAAAAgExIAAAAAmZAAAAAAyIQEAAAAQCYkAAAAADIhAQAAAJAJCQAAAIBMSAAAAABkQgIAAAAgExJU8Mknn6SysrI0dOjQGe4zePDgvM+4cePmadsAAACg3ocEvXv3zp3uuDVq1CgtuuiiafPNN0/XXnttmjp1ak03DwAAAOYbNR4ShC233DKNHj06X8l/5JFH0sYbb5z69u2btt566/TLL7/UdPMAAABgvlArQoImTZqk9u3bp8UXXzytvvrq6S9/+Uu67777cmBw/fXX531GjhyZtttuu9SyZctUXl6edt111/Tll1+WjnHaaaelVVddNd10002pU6dOqXXr1mn33XdP3333XWmfRx99NG2wwQapTZs2qV27djmE+Oijj2batocffjgtt9xyqVmzZjm8iCADAAAA6qNaERJUZZNNNkmrrLJKuvvuu/O0gwgIvvnmm/TMM8+kJ554In388cdpt912q/Sc6PDfe++96cEHH8y32Pfss88uPf7DDz+ko446Kr366qtp0KBBaYEFFkg77LDDDKc1jBo1Ku24445pm222yXUKDjjggHTCCSf8atsnTZqUJkyYUOkGAAAAtV3DVIutsMIK6c0338wd+rfeeiuNGDEidezYMT924403ppVWWim98sorac0118zborMfIw9atWqV7++99975uWeeeWa+v9NOO1U6ftQ9WHjhhdO7776bunXrNt3rX3755WmZZZZJAwYMyPeXX3753I5zzjlnpu3u379/Ov300+fQpwAAAADz+UiCUCgUckHDYcOG5XCgGBCErl275mkD8VhRTDMoBgShQ4cOaezYsaX7H3zwQdpjjz1S586d85SF2L84laEqcey111670rZ11133V9vdr1+/NH78+NItRiQAAABAbVerRxJEJ33ppZeu9v6xOkJFETBUnEoQ0waWWmqpdPXVV6fFFlssPxYjCH7++ec5XmMhbgAAAFCX1NqRBE899VQe2h9TBFZcccV8Nb7iFfmYIjBu3Lg8oqA6vv766zR8+PB00kknpU033TQf89tvv53pc2Kfl19+udK2F198cTbfEQAAANRutWIkQRT6GzNmTJoyZUpesSBWIYh5/bH6QK9evXKBwZVXXjntueee6cILL8zLIh588MGpZ8+eqUePHtV6jQUXXDCvaHDVVVflaQgxxeDXihAedNBBuR7Bsccem4sW/uc//ymttgAAAAD1Ta0YSRChQHTco0bAlltumZ5++ul08cUX52UQGzRokKcNxPfR0d9www3TZpttlusK3HbbbdV+jQgaBg4cmDv6McXgyCOPTOedd95Mn7Pkkkumu+66K6+YECstXHHFFemss86aA+8YAAAAap+yQlQHZK6KJRBbt26dXhvwUGrVrEVNNwcAqqVLn5413QQA4Df2Q6OYfhTur1MjCQAAAICaJyQAAAAAMiEBAAAAkAkJAAAAgExIAAAAAGRCAgAAACATEgAAAACZkAAAAADIhAQAAABAJiQAAAAAMiEBAAAAkAkJAAAAgExIAAAAAGRCAgAAACATEgAAAACZkAAAAADIhAQAAABAJiQAAAAAMiEBAAAAkAkJAAAAgExIAAAAAGQN//eFeWGZAzZI5eXlNd0MAAAAqJKRBAAAAEAmJAAAAAAyIQEAAACQCQkAAACATEgAAAAAZEICAAAAIBMSAAAAAJmQAAAAAMiEBAAAAEAmJAAAAAAyIQEAAACQCQkAAACArOH/vjAvfHTNkNSqWYuabgYAs6BLn5413QQAgHnGSAIAAAAgExIAAAAAmZAAAAAAyIQEAAAAQCYkAAAAADIhAQAAAJAJCQAAAIBMSAAAAABkQgIAAAAgExIAAAAAmZAAAAAAyBqmWTRlypR0/fXXp0GDBqWxY8emqVOnVnr8qaeemtVDAgAAAHUxJOjbt28OCbbaaqvUrVu3VFZWNndaBgAAANTukGDgwIHp9ttvT3/4wx/mTosAAACAulGToHHjxqlLly5zpzUAAABA3QkJjj766HTRRRelQqEwd1oEAAAA1I3pBkOGDElPP/10euSRR9JKK62UGjVqVOnxu+++e062DwAAAKitIUGbNm3SDjvsMHdaAwAAANSdkOC6666bOy0BAAAA6lZNgvDLL7+kJ598Ml155ZXpu+++y9u++OKL9P3338/p9gEAAAC1dSTBp59+mrbccss0cuTINGnSpLT55punVq1apXPOOSffv+KKK+ZOSwEAAIDaNZKgb9++qUePHunbb79NzZo1K22POgWDBg2a0+0DAAAAamtI8Oyzz6aTTjopNW7cuNL2Tp06pc8//zzNK9dff30uolh02mmnpVVXXbV0v3fv3mn77befZ+0BAACA+S4kmDp1apoyZcp02z/77LM87WBOmFEHf/DgwamsrCyNGzcu7bbbbun999+fI68HAAAAzEZI8Lvf/S5deOGFpfvRaY+Chaeeemr6wx/+kOaVmOqwyCKLzNXXmDx58lw9PgAAANTpkGDAgAHpueeeS127dk0TJ05Mf/zjH0tTDaJ4YU1NN/g1jz76aNpggw3yc9q1a5e23nrr9NFHH5Ue/+STT3Lgcdttt6WePXumpk2bpquuuiqVl5enO++8s9Kx7r333tSiRYvSyg4AAAAwX65usMQSS6Q33ngjd6bja4wi2H///dOee+5ZqZBhbfPDDz+ko446KnXv3j23+ZRTTsnFFocOHZoWWOD/ZSUnnHBCDkJWW221HBTEe7zuuuvSzjvvXNqneH9G0ytilYe4FU2YMGEuvzsAAACogZDg1ltvTXvssUcOBeJW0bHHHpvOO++8OdCslB588MHUsmXLStuqqoVQXTvttFOl+9dee21aeOGF07vvvpu6detW2n7EEUekHXfcsXT/gAMOSOutt14aPXp06tChQxo7dmx6+OGH05NPPjnD1+rfv386/fTTZ7utAAAAUCemG/Tp0yc98sgj020/8sgj08033zyn2pU23njjfJW/4u2aa66Z7eN98MEHOdzo3LlznkIQUyTCyJEjK+0XyztWtNZaa6WVVlop3XDDDfl+vMellloqbbjhhjN8rX79+qXx48eXbqNGjZrtdgMAAECtDQluueWW3NkeMmRIadthhx2Wbr/99vT000/PsYbFnP8uXbpUui2++OKzfbxtttkmffPNN+nqq69OL730Ur6Fn3/+ebrXnVaMJogaCMWpBvvuu2+uXzAjTZo0yUFExRsAAADUu5Bgq622Spdddlnadttt03/+85908MEHp7vvvjsHBCussEKqjb7++us0fPjwdNJJJ6VNN900rbjiiunbb7+t9vP32muv9Omnn6aLL744T0/YZ5995mp7AQAAoE7UJAixosG4cePS+uuvn+f1P/PMM/lKf2214IIL5hUNYrWCqCsQUwyiQOGsPD/qFETNhVgCMoo3AgAAwHwZEsSqAFWJgGD11VfPIwuKzj///FTbxOoFAwcOTIcffnguUrj88svnUQEbbbRRtY8RKzj861//Svvtt99cbSsAAADUlLJCoVCoThHBah2srCw99dRTqT666aabcnHGL774IjVu3HiWnhtLILZu3Tq9NuCh1KrZ9DUPAKi9uvTpWdNNAACYZcV+aBTTn5U6edUaSTAnCxLWNT/++GNe/vDss89Of/7zn2c5IAAAAIB6W7iwos8++yzf6rNzzz03F2Rs3759XtoQAAAA6qtZDgmmTp2a/vrXv+ZhC0sttVS+tWnTJp1xxhn5sfrmtNNOS5MnT06DBg1KLVu2rOnmAAAAQO1Z3eDEE09M//znP/Pw+1jdIAwZMiR3pidOnJjOPPPMudFOAAAAoLaFBDfccEO65ppr0rbbblva1r1797T44oungw8+WEgAAAAA88t0g2+++SbP0Z9WbIvHAAAAgPkkJFhllVXSJZdcMt322BaPAQAAAPPJdIOo9r/VVlulJ598Mq277rp52wsvvJBGjRqVHn744bnRRgAAAKA2jiRYeuml0/vvv5922GGHNG7cuHzbcccd0/Dhw/NKBwAAAMB8MpIgQoLRo0dPV6Dw66+/Th07dkxTpkyZk+0DAAAAautIgkKhUOX277//PjVt2nROtAkAAACozSMJjjrqqPy1rKwsnXLKKal58+alx2L0wEsvvZRWXXXVudNKAAAAoPaEBK+//nppJMFbb72VGjduXHosvo+VDY455pi500oAAACg9oQETz/9dP667777posuuiiVl5fPzXYBAAAAtb1w4XXXXTd3WgIAAADUrcKFAAAAQP0kJAAAAAAyIQEAAACQCQkAAACATEgAAAAAzN7qBsy+ZQ7YwNKRAAAA1FpGEgAAAACZkAAAAADIhAQAAABAJiQAAAAAMiEBAAAAkAkJAAAAgExIAAAAAGRCAgAAACATEgAAAACZkAAAAADIhAQAAABAJiQAAAAAMiEBAAAAkDX83xfmhY+uGZJaNWtR080AqLO69OlZ000AAKjXjCQAAAAAMiEBAAAAkAkJAAAAgExIAAAAAGRCAgAAACATEgAAAACZkAAAAADIhAQAAABAJiQAAAAAMiEBAAAAkAkJAAAAgExIAAAAAGRCAgAAACATEgAAAACZkAAAAADIhAQAAABAJiQAAAAAMiEBAAAAkAkJAAAAgExIAAAAAGRCAgAAAKDuhASdOnVKF154YU03AwAAAOq1Gg8JRo0alfbbb7+02GKLpcaNG6ellloq9e3bN3399dc13TQAAACYr9RoSPDxxx+nHj16pA8++CDdeuut6cMPP0xXXHFFGjRoUFp33XXTN998U5PNAwAAgPlKjYYEhxxySB498Pjjj6eePXumJZdcMv3+979PTz75ZPr888/TiSeeWNr3u+++S3vssUdq0aJFWnzxxdOll15a6Vjnn39+WnnllfPjHTt2TAcffHD6/vvvS49ff/31qU2bNunBBx9Myy+/fGrevHnaeeed048//phuuOGGPKVhwQUXTIcffniaMmVK6Xk33XRTDjJatWqV2rdvn/74xz+msWPHzqNPCAAAAOaDkCBGCTz22GO5M9+sWbNKj0VnfM8990y33XZbKhQKedt5552XVllllfT666+nE044IU9JeOKJJ0rPWWCBBdLFF1+c3nnnndzpf+qpp9Jxxx1X6bgRCMQ+AwcOTI8++mgaPHhw2mGHHdLDDz+cbxEIXHnllenOO+8sPWfy5MnpjDPOSG+88Ua699570yeffJJ69+490/c2adKkNGHChEo3AAAAqO0a1tQLxxSDCABWXHHFKh+P7d9++2366quv8v31118/hwNhueWWS88991y64IIL0uabb563HXHEEaXnxqiAv/3tb+mggw5Kl112WaUO/+WXX56WWWaZfD9GEkQw8OWXX6aWLVumrl27po033jg9/fTTabfddsv7RL2Eos6dO+eQYc0118yjFOI5Venfv386/fTT58CnBAAAAPNR4cLiSIFfEzUKpr0/bNiw0v2YorDpppvmqQgxNWDvvffOxQ9j9EBRTDEoBgRh0UUXzYFCxc5+bKs4neA///lP2mabbfJUiDhuTIsII0eOnGFb+/Xrl8aPH1+6RXFGAAAAqO1qLCTo0qVLKisrq9TRryi2R42AhRde+FePFVMAtt5669S9e/d011135Y59sWbBzz//XNqvUaNGlZ4Xr1/VtqlTp+bvf/jhh7TFFluk8vLydMstt6RXXnkl3XPPPdMdd1pNmjTJz6l4AwAAgNquxkKCdu3a5akCMR3gp59+qvTYmDFjcqc8hvxHpz28+OKLlfaJ+8WpChEKRMd+wIABaZ111snTEb744ovf3Mb33nsvj0Y4++yz0//93/+lFVZYQdFCAAAA6q0anW5wySWX5CJ/cbX+3//+dx6WHwUFIzyIaQNnnnlmad+oQXDuueem999/P48SuOOOO3LxwuKohKg38I9//CMvqxh1BmIpxd8qphjE6gvF495///25iCEAAADURzUaEiy77LLp1VdfzQUBd91111wv4MADD8zFA1944YXUtm3b0r5HH3103ne11VbLRQljycMIF0KsehD3zznnnNStW7c8CiGKB/5WMdUhlk6MQCKKGsaIgr///e+/+bgAAABQG5UVqls5kNkWSyC2bt06vTbgodSqWYuabg5AndWlz/+KxwIAUL1+aBTTn5U6eTW+ugEAAABQOwgJAAAAgExIAAAAAGRCAgAAACATEgAAAACZkAAAAADIhAQAAABAJiQAAAAAMiEBAAAAkAkJAAAAgExIAAAAAGRCAgAAACATEgAAAACZkAAAAADIhAQAAABAJiQAAAAAMiEBAAAAkAkJAAAAgExIAAAAAGRCAgAAACATEgAAAABZw5puwPxkmQM2SOXl5TXdDAAAAKiSkQQAAABAJiQAAAAAMiEBAAAAkAkJAAAAgExIAAAAAGRCAgAAACATEgAAAACZkAAAAADIhAQAAABAJiQAAAAAMiEBAAAAkAkJAAAAgKzh/74wL3x0zZDUqlmLmm4GwCzr0qdnTTcBAIB5wEgCAAAAIBMSAAAAAJmQAAAAAMiEBAAAAEAmJAAAAAAyIQEAAACQCQkAAACATEgAAAAAZEICAAAAIBMSAAAAAJmQAAAAAMiEBAAAAEAmJAAAAAAyIQEAAACQCQkAAACATEgAAAAAZEICAAAAIBMSAAAAAJmQAAAAAMiEBAAAAEAmJAAAAAAyIQEAAACQCQmmsdFGG6UjjjiippsBAAAA81dI0Lt371RWVpYOOuig6R475JBD8mOxT3U9/fTT6Q9/+ENq165dat68eeratWs6+uij0+eff17tY9x9993pjDPOqPb+AAAAUF/U+EiCjh07poEDB6affvqptG3ixInpX//6V1pyySWrfZwrr7wybbbZZql9+/bprrvuSu+++2664oor0vjx49OAAQOqfZy2bdumVq1azfL7AAAAgLquxkOC1VdfPQcFcQW/KL6PgGC11VYrbZs6dWo699xzU5cuXVKTJk3y42eeeWZ+7LPPPkuHH354vl177bV5ykCnTp3ShhtumK655pp0yimn5P2+/vrrtMcee6TFF188jzRYeeWV06233jrT6QZxnLPOOivtt99+OTyI173qqqvmwScDAAAA81lIEKIDft1115XuR0d/3333rbRPv3790tlnn51OPvnkPEogRhosuuii+bE77rgj/fzzz+m4446r8vht2rQpjVBYY4010kMPPZTefvvtdOCBB6a99947vfzyyzNtX4xE6NGjR3r99dfTwQcfnPr06ZOGDx8+w/0nTZqUJkyYUOkGAAAAtV2tCAn22muvNGTIkPTpp5/m23PPPZe3FX333XfpoosuyiMJ9tlnn7TMMsukDTbYIB1wwAH58Q8++CCVl5enDh06zPR1YgTBMccck1ZdddXUuXPndNhhh6Utt9wy3X777TN9XtQ5iHAgRjEcf/zxaaGFFsr1D2akf//+qXXr1qVbjJQAAACA2q5hqgUWXnjhtNVWW6Xrr78+FQqF/H10xIuGDRuWr85vuummVT4/nhNFDn/NlClT8tSBCAWimGGMPojjxtSDmenevXvp+3idqHswduzYGe4fox6OOuqo0v0YSSAoAAAAoLarFSFBccrBoYcemr+/9NJLKz3WrFmzmT53ueWWywUKR48ePdPRBOedd14ekXDhhRfmegQtWrTI9QciLJiZRo0aVbofQUHUSJiRqJkQNwAAAKhLasV0gxDD/qOzPnny5LTFFltUemzZZZfNQcGgQYOqfO7OO++cGjdunKcjVGXcuHH5a0xj2G677fJUhlVWWSVPOXj//ffnwrsBAACAuqfWjCRo0KBBnlZQ/L6ipk2b5loAUZgwwoD1118/ffXVV+mdd95J+++/fx7Kf8EFF+SRCDG0v1evXnlVglj14MYbb0wtW7bMxQcjbLjzzjvT888/nxZccMF0/vnnpy+//DJ17dq1ht41AAAA1B61JiQIUXxwRmJVg4YNG+blDL/44os8reCggw4qPR6FBWPawd///ve0ww47pJ9++ikHBVtvvXWpPsBJJ52UPv744zxSIeoQxOoG22+/fZ6qAAAAAPO7skJU/WOuitENscrBawMeSq2atajp5gDMsi59etZ0EwAAmI1+aFwUn9kF+VpbkwAAAACoWUICAAAAIBMSAAAAAJmQAAAAAMiEBAAAAEAmJAAAAAAyIQEAAACQCQkAAACATEgAAAAAZEICAAAAIBMSAAAAAJmQAAAAAMiEBAAAAEAmJAAAAAAyIQEAAACQCQkAAACATEgAAAAAZEICAAAAIBMSAAAAAJmQAAAAAMga/u8L88IyB2yQysvLa7oZAAAAUCUjCQAAAIBMSAAAAABkQgIAAAAgExIAAAAAmZAAAAAAyIQEAAAAQCYkAAAAADIhAQAAAJAJCQAAAIBMSAAAAABkQgIAAAAgExIAAAAAmZAAAAAAyBr+7wvzwsBXD0/NWjSu6WYA88Dea19V000AAIBZZiQBAAAAkAkJAAAAgExIAAAAAGRCAgAAACATEgAAAACZkAAAAADIhAQAAABAJiQAAAAAMiEBAAAAkAkJAAAAgExIAAAAAGRCAgAAACBr+L8vAAAAUNmUKVPS5MmTa7oZVKFRo0apQYMGaU4TEgAAAFBJoVBIY8aMSePGjavppjATbdq0Se3bt09lZWVpThESAAAAUEkxIFhkkUVS8+bN52gnlDkT4vz4449p7Nix+X6HDh3SnCIkAAAAoNIUg2JA0K5du5puDjPQrFmz/DWCgjhXc2rqgcKFAAAAlBRrEMQIAmq34jmak3UjhAQAAABMxxSD+fMcCQkAAACATEgAAAAAZEICAAAA5jsbbbRROuKII2q6GbWOkAAAAIB65eeff67pJtRZQgIAAABq/Kr+4Ycfno477rjUtm3b1L59+3TaaaeVHo8lGQ844IC08MILp/Ly8rTJJpukN954o/R47Lvqqquma665Ji299NKpadOmM3293r17p2eeeSZddNFFufhf3D755JO8/OP++++fjxFLDC6//PJ5n4p++eWX3NY2bdrkJSKPP/74tM8++6Ttt98+1QdCgtkUPzxTp06t6WYAAADUCzfccENq0aJFeumll9K5556b/vrXv6YnnngiP7bLLruksWPHpkceeST95z//SauvvnradNNN0zfffFN6/ocffpjuuuuudPfdd6ehQ4fO9LWi47/uuuumP/3pT2n06NH51rFjx9zHW2KJJdIdd9yR3n333XTKKaekv/zlL+n2228vPfecc85Jt9xyS7ruuuvSc889lyZMmJDuvffeVF/Ui5DgxhtvzAnOpEmTKm2PJGfvvffO39933335BykSpc6dO6fTTz89J0BF559/flp55ZXzD2X8cBx88MHp+++/Lz1+/fXX56To/vvvT127dk1NmjRJI0eOnIfvEgAAoP7q3r17OvXUU9Oyyy6bevXqlXr06JEGDRqUhgwZkl5++eXccY9t8fjf//733D+78847K00xiL7haqutlo81M61bt06NGzdOzZs3z6MW4tagQYPUqFGj3FeM14nRBHvuuWfad999K4UE//jHP1K/fv3SDjvskFZYYYV0ySWX5LbUF/UiJIhUKa7sRwe+KFKmhx56KO23337p2WefzT9kffv2zWnQlVdemTv9Z555Zmn/BRZYIF188cXpnXfeyQnWU089lYe6VPTjjz/m1CiGsMR+iyyySJXtibAi0qSKNwAAAGZs2o59hw4dcr8uphXEBdy4MNyyZcvSbcSIEemjjz4q7b/UUkvl6Qi/1aWXXprWWGONfKx4nauuuqp0gXj8+PHpyy+/TGuttVZp/wgXYv/6omGqB2KuyB//+Mc83CMCg3DzzTenJZdcMs9t2XzzzdMJJ5yQ54mEGElwxhln5BAgkqpQsaplp06d0t/+9rd00EEHpcsuu6y0ffLkyfn+KqusMtP29O/fP6dPAAAAVE9cxa8o6gTE8P8ICCIwGDx48HTPqXgFP0aF/1YDBw5MxxxzTBowYECejtCqVat03nnn5SkQ84t6ERKEmEuy5pprps8//zwtvvjieaRAFKOIH6xInmKuSMWRAzHyYOLEiXl0QAwxefLJJ3Pn/r333stX/mMqQsXHQwxH+bVhKyGGnhx11FGl+3G8mMIAAADArIlp42PGjEkNGzbMF3TnlOjfRb+woueeey6tt956efp5UcXRCjFNYdFFF02vvPJK2nDDDfO2OMZrr72WCyfWB/UmJIh5J3GFP+ag/O53v8vTAWK6QYjkKa7s77jjjtM9L2oURBXLrbfeOvXp0ycHCVFNM+a9RFXLmNdSDAlixEKEDr8m6hXEDQAAgN9ms802y1f1o+ZcFDRcbrnl0hdffJH7e1EXIOoHzI4IHGKEQPQHY1pB9AOXXXbZ3Kd87LHHck2Cm266KQcC8X3RYYcdli8wd+nSJdckiBoF3377bbX6inVBvQkJQiyJceGFF+bRBPGDVLx6H8nT8OHD80msSlTHjGEsMaQkahOEioUpAAAAqBnR+X744YfTiSeemIsIfvXVV7nQYFzJj6v6syumFcSU9ChM/9NPP+UaB3/+85/T66+/nnbbbbf8unvssUceVRCrKhTFkocxsiHq3kU9ggMPPDBtscUW+fv6oKxQKBRSPRFFJBZbbLE8VSDSnzixIVKgGClw0kknpZ133jkHATEF4e233861B+L7GBoSAcM222yTh5jElIEIGyIRinkuMX0h6hbE+pyzKqYbxLCUKwftk5q1aDwX3jlQ2+y99lU13QQAgNkS066jwxxXz2PkNTMXF5xXXHHFtOuuu+bad7XlXBX7odFPLi8vn79WNyiKD2CnnXbKQ0ViKEpRpDoPPvhgevzxx3PdgnXWWSddcMEFufpliGkKsQRirFzQrVu3vOZlDB8BAACAij799NN09dVXp/fffz+99dZbedp6dNSjmH59UK9GEoRNN900rbTSSnk5w9rCSAKY/xhJAADUVfVhJEEsWRjTCGbk3XffzavhzY5Ro0al3XffPY9Mj+50XGg+++yzS4UM6/pIgnpTkyCmBcSSGHGruGwhAAAA85eYhj506NCZPj67OnbsmKeo11f1anWDCApiysDyyy9f080BAACghsRyiTMqXM98EhLEshUAAADA7KtXhQsBAACA2SckAAAAADIhAQAAAJAJCQAAAIBMSAAAAADUr9UNAAAAmLs+vPyZefp6Xfr0nKX9e/funW644Yb8faNGjdKSSy6ZevXqlf7yl7+kIUOGpI033rjK540ePTq1b98+nXbaaen000/P2xZYYIG02GKLpd///vfp7LPPTm3bti3t/8Ybb6STTz45vfjii2nChAn5uWuvvXb6xz/+kRZZZJHSftGWSy65JL3zzjupQYMGafXVV0/HHnts2nrrrUv7DB48OLera9eu6c0338z7FbVp0yZdeOGF+X3NK0YSAAAAUG9sueWWudP/wQcfpKOPPjp3/M8777zS48OHD8+PV7xV7NivtNJKedvIkSPTddddlx599NHUp0+f0uNfffVV2nTTTXNo8Nhjj6Vhw4bl/SJQ+OGHH0r7HXPMMenPf/5z2m233XLn/+WXX04bbLBB2m677XJwMK2PP/443XjjjammGUkAAABAvdGkSZN8ZT9E5/6ee+5J999/f1p33XXztggE4gr9jDRs2LD0/MUXXzztsssuOQQoeu6559L48ePTNddck/cNSy+9dKVRCjHCYMCAAeniiy9Ohx12WGn7mWeemSZOnJiOOuqoHBZ07Nix9Fjsd+qpp6Y//vGP+T3UFCMJAAAAqLeaNWuWfv7559l67ieffJJHCzRu3Li0LQKEX375JYcPhUKhyufdeuutqWXLlnkkwbRidMPkyZPTXXfdVWn7EUcckY8bUxZqkpAAAACAeic68E8++WTu5G+yySal7UsssUTuwBdvMb2gorfeeitvj3AhRghEPYHjjz++9Pg666yTaxzEFf+FFloo1yyI6QxffvllaZ/3338/LbPMMpXChaKYllBeXp73qah58+Z5JEH//v3zSIWaIiQAAACg3njwwQdzJ79p06a5Ax81AaIuQdGzzz6bhg4dWro9/PDDlZ6//PLL5+2vvPJKDge22GKLSlMGitMGxowZk6644oocMsTXFVZYIQcMRTMaZTAz+++/f2rXrl0655xzUk0REgAAAFBvRG2A6ORH4cKffvoprzDQokWL0uMxOqBLly6l21JLLVXp+Y0bN87bu3Xrllc1iNUGiiseVBSd+ahX8Pe//z0XL4wRAvF9WG655XIhwqqmOXzxxRd5RYTYZ1pR4yACiIsuuijvVxOEBAAAANQbEQhEJz+WPywWFvwtTjrppNz5n1mnPYKFmF5QXN1g9913T99//3268sorp9s3jhXLM+60005VHiuChxidUFUwMS9Y3QAAAID5xtixY/MKA9OOCoiOe1ViVYTu3buns846Ky9dGNMZBg4cmIOAGA0Q0woeeOCBPG2huApCPKdv377p2GOPzaMJtt9++1ys8Oabb86jBC688MJKKxtMK0YwxDSHmiAkAAAAoFq69OmZ6rqoOTCtF154IRcknJEjjzwy9e7dO9co6Nq1ay4yGKsUjBo1Ki9XuOyyy+YlEffee+/ScyIIiHDhsssuy6MRYtrC6quvnu699960zTbbpJmJQotxe/zxx9O8VlaYnWoKzJKYb9K6det05aB9UrMW01e3BOqfvde+qqabAAAwW+Iq+4gRI/Lc/Sj+R908V8V+aKyUEKspVJeaBAAAAEBmusE8tHuPi2cpwQEAAIB5yUgCAAAAIBMSAAAAAJmQAAAAAMiEBAAAAEAmJAAAAAAyIQEAAACQCQkAAACATEgAAAAAZA3/9wUAAABm7uhHbpynrzfg971m+TmjRo1Kp556anr00UfTf//739ShQ4e0/fbbp1NOOSW1a9cu77PRRhulZ555Jn/fpEmTtOSSS6Z99903nXDCCamsrKzS8e6666506aWXptdffz1NnDgx77v++uunww47LK222mqpvjGSAAAAgHrh448/Tj169EgffPBBuvXWW9OHH36YrrjiijRo0KC07rrrpm+++aa075/+9Kc0evToNHz48NSvX78cIlxxxRWVjnf88cen3XbbLa266qrp/vvvz/v+61//Sp07d87PqY+MJAAAAKBeOOSQQ1Ljxo3T448/npo1a5a3xZX/uOK/zDLLpBNPPDFdfvnleXvz5s1T+/bt8/cxiuCSSy5JTzzxROrTp0/e9uKLL6Zzzz03XXTRRenwww8vvUYcb4011kiFQiHVR0YSAAAAUOfFKIHHHnssHXzwwaWAoCjCgD333DPddttt03Xu4/6zzz6b3nvvvRwwFMVIhJYtW+bjVWXaaQn1hZAAAACAOi+mGESHf8UVV6zy8dj+7bffpq+++irfv+yyy3IIEDUJNtxwwzR16tRKIwbef//9PK2gYcP/NwD//PPPz88p3saPH5/qG9MN5qGvrjk5TWzWpKabAcyGRfqcW9NNAACgGqo7DSBGFsT0gwgOotDheuutl28zs99++6Vtt902vfTSS2mvvfaql1MOjCQAAACgzuvSpUueAjBs2LAqH4/tCy64YFp44YXz/datW+fnrLnmmun222/PNQmefPLJ0v7LLrtsLoQ4efLk0rY2bdrk5yy++OKpvhISAAAAUOfF8oabb755nkbw008/VXpszJgx6ZZbbskrFVRVSyCmDvTt2zcdc8wxpdEBe+yxR/r+++/z8eYnQgIAAADqhRgNMGnSpLTFFlukf//732nUqFHp0UcfzeFBXP0/88wzZ/jcP//5z7kOwV133ZXvx5KJRx99dL4dddRRaciQIenTTz/Nqx7885//zGHDAgvUvy61mgQAAABUy4Df90q1WUwRePXVV3ONgV133TWveBArG2y//fZ5W9u2bWf43HisV69e6bTTTks77rhjDgD+/ve/p7XWWisvm3jttdemH3/8MS266KK50OELL7yQysvLU31TVqiPlRZqmQkTJuT5Lh8OODy1UrgQ6iSFCwGA+cXEiRPTiBEj0tJLL52aNm1a081hNs9VsR8aKzDMSphR/8ZGAAAAALNFSAAAAABkQgIAAAAgExIAAAAAmZAAAAAAyIQEAAAAQCYkAAAAADIhAQAAAJAJCQAAAIBMSAAAAABkDf/3BQAAAGbuppcOnKevt/faV83S/r1790433HBD/r5hw4apbdu2qXv37mmPPfbIjy2wQOXr5FtssUV68skn04svvpjWXHPN9Mknn6Sll156pq9x3XXXpU6dOqWNN964ysdHjx6d2rdvn+oqIwkAAACoN7bccsvcUY8O/yOPPJI783379k1bb711+uWXX0r7jRw5Mj3//PPp0EMPTddee23e1rFjx/zc4u3oo49OK620UqVtu+22W+kYw4cPr/RY3BZZZJFUlxlJAAAAQL3RpEmT0pX8xRdfPK2++uppnXXWSZtuumm6/vrr0wEHHFAaERDBQZ8+ffLj559/fmrWrFmlUQAtW7bMIxJmNDIgAoE2bdqk+sRIAgAAAOq1TTbZJK2yyirp7rvvzvcLhUIOCfbaa6+0wgorpC5duqQ777yzpptZKwgJAAAAqPciDIgpCCHqEPz444+5JkGIsOCf//znLB9ziSWWyKMNireYmlDXmW4AAABAvRejB8rKyvL3UYMgagvEVIIQhQ2PPfbY9NFHH6Vlllmm2sd89tlnU6tWrUr3GzVqlOo6IQEAAAD13rBhw/LKBd98802655570uTJk9Pll19eenzKlCk5PDjzzDOrfcw4npoE84FIl+69996abgYAAABzwFNPPZXeeuuttNNOO6VbbrklTxN444030tChQ0u3AQMG5MKGERbMz+r0SIKvvvoqnXLKKemhhx5KX375ZVpwwQVzMYrYtv7668/2cWPZijgWAAAAdcukSZPSmDFjcmc/+omPPvpo6t+/f17JoFevXmmNNdZIO++8c+rWrVul58Xyh/369cv7b7XVVtV6rbFjx6aJEydW2tauXbs6Pe2gTocEkQL9/PPP6YYbbkidO3fOPwCDBg1KX3/99WwdL47VuHHjGS5vAQAAMD/be+2rUm0XnfwOHTrkegPFC8kXX3xx2meffdLrr7+eRxBcffXV0z2vdevWeZnEKGBY3ZBg+eWXn27bCy+8kJdUrKvKClG9oQ4aN25cPuGDBw9OPXv2nO7x/fbbL6c6Dz74YGlbzDmJdTIjRdp///3TRhttlNOj+OG5+eab08orr5yefvrpPN0g5qhsv/32+XnHH398vv/ZZ5/lAGHPPffMoxWqmw5NmDAh/8B9OODw1KpZkzn4KQDzyiJ9zq3pJgAAzBNxZXzEiBF5vn3Tpk1rujnM5rkq9kPHjx+fysvLU70fSVBcYiJqB0RK06RJ5c73AQcckDbccMM8dSBSpBCBQSxzEVUsi2IUQp8+fdJzzz03w9eKapUxN2WxxRbL81j+9Kc/5W3HHXfcDIe3xK3iyQEAAIDars4WLoyr/9Fxj05+VJOMGgR/+ctf0ptvvpkfX2+99fLQj5tuuqn0nOuuuy7tsssuOVwoWnbZZdO5556b961qqEg46aST8vE6deqUttlmm3TMMcek22+/fYZti5EKkdgUbzG3BQAAAGq7OhsSFGsSfPHFF+n+++9PW265ZZ56sPrqq+fwoDiaIIKBEPUKHnnkkTwNoaIoWvFrbrvtthxCxFSDCBgiNBg5cuQM949iFzGko3gbNWrUb36vAAAAMLfV6ZAgxLyLzTffPJ188snp+eefT717906nnnpqfiwqV3788ce5cETUHIh5Gv/3f/9X6fktWrSY6fHjuVGD4A9/+EOerhCFLk488cRc5HBGYupDzPmoeAMAAIDars7WJJiRrl275joFxaUnovhgjCaIzv6+++47y8eL4GGppZbKwUDRp59+OkfbDAAAALVBnQ0JYpnDqC8Q0we6d++eCwm++uqrub7AdtttV9ovphzEepixRmYseTGromZBTC0YOHBgWnPNNdNDDz2UVzoAAACA+qbOhgRRG2DttddOF1xwQfroo4/y8oZRIDBWHogChkWbbbZZXt1gpZVWyqsTzKptt902HXnkkenQQw/NKxbEepkxteG0006bw+8IAAAAalZZoVAopHrs+++/T4svvniecrDjjjvWSBuK61N+OODw1KpZ5aUagbphkT7n1nQTAADmiYkTJ6YRI0bkmm5RA466ea6K/dAopj8rdfLq7EiCXzN16tT03//+Nw0YMCAvkRgjAgAAAID5MCSIOgKRpiyxxBJ5ScSGDevtWwUAAIA5ot72nDt16pTq+UwKAACAeWrs5cfV+imfY8aMSf37989F5z/77LM85L5Lly5pr732ysXsmzdvnvuLxVXr4v7yyy+f+vXrl4vjh6hBd/rpp0937NjvvffeS/VZvQ0JAAAAmL98/PHHaf31189Tzs8666y08sorpyZNmqS33norXXXVVbleXXEq+l//+tdc+D7m7sc09d122y0/vt566+XHo/j9k08+Wen488MI9fr/DgEAAJgvHHzwwbkj/+qrr6YWLVqUtnfu3Dltt912lUabt2rVKrVv3z7fLr300nTzzTenBx54oBQSxHHisfnNAjXdAAAAAPitvv766/T444+nQw45pFJAUFFZWVmV2yMQaNSoUfr555/T/E5IAAAAQJ334Ycf5pECUTegooUWWii1bNky344//vjpnhfBQNQwiKUCN9lkk9L2mKJQfF7xdtBBB6X6znQDAAAA6q2XX345TZ06Ne25555p0qRJpe0RGJx00klp4sSJOQA4++yz01ZbbVV6PMKG+++/v9KxysvLU30nJAAAAKDOixUMYjrB8OHDK22PegShWbNmlbYfe+yxqXfv3jkgWHTRRaebitC4ceN8zPmN6QYAAADUee3atUubb755uuSSS9IPP/zwq/vHNIQIAaI44YxqFcyPhAQAAADUC5dddln65ZdfUo8ePdJtt92Whg0blkcWxMoF7733XmrQoEG1j/XLL7+kMWPGVLp9+eWXqb4z3QAAAIBqWaTPuak2W2aZZdLrr7+ezjrrrNSvX7/02WefpSZNmqSuXbumY445Ji+RWF3vvPNO6tChQ6VtcayoYVCflRUqLhTJXDFhwoTUunXr9OGAw1OrZk1qujlAPfwHEQBgTolO8IgRI9LSSy+dmjZtWtPNYTbPVbEfGqs2zErBRdMNAAAAgExIAAAAAGRCAgAAACATEgAAAACZkAAAAIDpqHE/f54jIQEAAAAljRo1yl9//PHHmm4Kv6J4jornbE5oOMeOBAAAQJ3XoEGD1KZNmzR27Nh8v3nz5qmsrKymm8U0IwgiIIhzFOcqztmcIiSYhxY+4IxZWp8SAACgJrRv3z5/LQYF1E4REBTP1ZwiJAAAAKCSGDnQoUOHtMgii6TJkyfXdHOoQkwxmJMjCIqEBAAAAFQpOqFzoyNK7aVwIQAAAJAJCQAAAIBMSAAAAABkahLMo+UpwoQJE2q6KQAAAMwHJvz//c9if7S6hATzwNdff52/duzYsaabAgAAwHzku+++S61bt672/kKCeaBt27b568iRI2fp5FA707gIe0aNGpXKy8trujn8Bs5l/eFc1h/OZf3hXNYfzmX94VzOf+eyUCjkgGCxxRabpeMLCeaBBRb4X+mHCAj8QtYPcR6dy/rBuaw/nMv6w7msP5zL+sO5rD+cy/nrXLaejYvUChcCAAAAmZAAAAAAyIQE80CTJk3Sqaeemr9StzmX9YdzWX84l/WHc1l/OJf1h3NZfziX9UeTuXwuywqzuh4CAAAAUC8ZSQAAAABkQgIAAAAgExIAAAAAmZAAAAAAyIQEc9mll16aOnXqlJo2bZrWXnvt9PLLL9d0k/gV/fv3T2uuuWZq1apVWmSRRdL222+fhg8fXmmfiRMnpkMOOSS1a9cutWzZMu20007pyy+/rLE2Uz1nn312KisrS0cccURpm3NZd3z++edpr732yueqWbNmaeWVV06vvvpq6fGow3vKKaekDh065Mc322yz9MEHH9Rom5nelClT0sknn5yWXnrpfJ6WWWaZdMYZZ+TzV+Rc1k7//ve/0zbbbJMWW2yx/P/Se++9t9Lj1Tlv33zzTdpzzz1TeXl5atOmTdp///3T999/P4/fCTM7l5MnT07HH398/n9sixYt8j69evVKX3zxRaVjOJd14/eyooMOOijvc+GFF1ba7lzWnXM5bNiwtO2226bWrVvn38/os4wcOXKO/10rJJiLbrvttnTUUUfl5Slee+21tMoqq6QtttgijR07tqabxkw888wz+ZfrxRdfTE888UT+x/J3v/td+uGHH0r7HHnkkemBBx5Id9xxR94//uHccccda7TdzNwrr7ySrrzyytS9e/dK253LuuHbb79N66+/fmrUqFF65JFH0rvvvpsGDBiQFlxwwdI+5557brr44ovTFVdckV566aX8j2f8Pzf+waT2OOecc9Lll1+eLrnkkvzHTtyPc/ePf/yjtI9zWTvFv4Pxt0xcAKlKdc5bdETeeeed/O/rgw8+mP8oPvDAA+fhu+DXzuWPP/6Y/26NMC++3n333fliSXRMKnIu68bvZdE999yT/7aNDui0nMu6cS4/+uijtMEGG6QVVlghDR48OL355pv59zQuRs/xv2tjCUTmjrXWWqtwyCGHlO5PmTKlsNhiixX69+9fo+1i1owdOzYubxWeeeaZfH/cuHGFRo0aFe64447SPsOGDcv7vPDCCzXYUmbku+++Kyy77LKFJ554otCzZ89C375983bnsu44/vjjCxtssMEMH586dWqhffv2hfPOO6+0Lc5vkyZNCrfeeus8aiXVsdVWWxX222+/Stt23HHHwp577pm/dy7rhvj/5D333FO6X53z9u677+bnvfLKK6V9HnnkkUJZWVnh888/n8fvgBmdy6q8/PLLeb9PP/0033cu69a5/OyzzwqLL7544e233y4stdRShQsuuKD0mHNZd87lbrvtVthrr71m+Jw5+XetkQRzyc8//5z+85//5KF2RQsssEC+/8ILL9Ro25g148ePz1/btm2bv8Z5jdEFFc9tJHpLLrmkc1tLxciQrbbaqtI5C85l3XH//fenHj16pF122SVPA1pttdXS1VdfXXp8xIgRacyYMZXOZQzFi2lezmXtst5666VBgwal999/P99/44030pAhQ9Lvf//7fN+5rJuqc97iawxljt/lotg//j6KkQfU7r+FYvhznL/gXNYdU6dOTXvvvXc69thj00orrTTd485l3TmPDz30UFpuueXyCK34Wyj+/1pxSsKc/LtWSDCX/Pe//83zLhdddNFK2+N+/CNK3fmFjPnrMcy5W7dueVucv8aNG5f+oSxybmungQMH5uGSUWtiWs5l3fHxxx/nIerLLrtseuyxx1KfPn3S4Ycfnm644Yb8ePF8+X9u7XfCCSek3XffPf/hEtNHIvCJ/8/GcNfgXNZN1Tlv8TX+sK2oYcOGOYR3bmuvmC4SNQr22GOPPGc9OJd1R0zpinMT/2ZWxbmsG8aOHZvrRER9rS233DI9/vjjaYcddshTCWJawZz+u7bhHG091MMr0G+//Xa+ykXdM2rUqNS3b988x67ifC3qZmAXVznOOuusfD86lvG7GXOf99lnn5puHrPg9ttvT7fcckv617/+la9qDR06NIcEMU/WuYTaJa5K7rrrrrkoZQS11C1xZfmiiy7KF0tiJAh1+++gsN122+W6A2HVVVdNzz//fP5bqGfPnmlOMpJgLllooYVSgwYNpqsmGffbt29fY+2i+g499NBcvOXpp59OSyyxRGl7nL+YTjJu3LhK+zu3tfMfx0heV1999ZyKxy3S1iisFd9Hsupc1g1RLb1r166Vtq244oqlir7F8+X/ubVfDHktjiaI6ukxDDb+4CmO9nEu66bqnLf4Om3x5l9++SVXVndua29A8Omnn+awvTiKIDiXdcOzzz6bz1MMNy/+HRTn8+ijj86rrwXnsu70LRs2bPirfwvNqb9rhQRzSQz1WGONNfK8y4oJUNxfd911a7RtzFyk5REQRBXYp556Ki/TVVGc1xgiW/HcRtXf+AV1bmuXTTfdNL311lv5SmXxFlejY1hz8Xvnsm6IKT/TLkUac9qXWmqp/H38nsY/gBXP5YQJE/J8SueydonK6THXtaII1YtXSZzLuqk65y2+xh+vEeAWxb+zce5jbi21LyCIJSyffPLJvJxaRc5l3RAhbFTAr/h3UIzairA2pu4F57Lu9C3XXHPNmf4tNEf7KLNRbJFqGjhwYK7qe/311+fKoQceeGChTZs2hTFjxtR005iJPn36FFq3bl0YPHhwYfTo0aXbjz/+WNrnoIMOKiy55JKFp556qvDqq68W1l133Xyj9qu4ukFwLuuGqKzdsGHDwplnnln44IMPCrfcckuhefPmhZtvvrm0z9lnn53/H3vfffcV3nzzzcJ2221XWHrppQs//fRTjbadyvbZZ59cZfvBBx8sjBgxonD33XcXFlpoocJxxx1X2se5rL0rxbz++uv5Fn9Cnn/++fn7YsX76py3LbfcsrDaaqsVXnrppcKQIUPyyjN77LFHDb6r+dPMzuXPP/9c2HbbbQtLLLFEYejQoZX+Fpo0aVLpGM5l3fi9nNa0qxsE57JunMu77747r15w1VVX5b+F/vGPfxQaNGhQePbZZ+f437VCgrksTl6cqMaNG+clEV988cWabhK/In4pq7pdd911pX3iD56DDz64sOCCC+aOyg477JD/8aTuhQTOZd3xwAMPFLp165bD1xVWWCH/I1lRLMF28sknFxZddNG8z6abbloYPnx4jbWXqk2YMCH/Dsa/jU2bNi107ty5cOKJJ1bqfDiXtdPTTz9d5b+PEfxU97x9/fXXufPRsmXLQnl5eWHffffNfxhTe85lhHcz+lsonlfkXNaN38vqhATOZd05l//85z8LXbp0yf9+rrLKKoV777230jHm1N+1ZfGfOTMIAgAAAKjL1CQAAAAAMiEBAAAAkAkJAAAAgExIAAAAAGRCAgAAACATEgAAAACZkAAAAADIhAQAAABAJiQAAAAAMiEBAFBvfPLJJ6msrCwNHTq0ppsCAHWSkAAAAADIhAQAwBwzderUdO6556YuXbqkJk2apCWXXDKdeeaZ+bG33norbbLJJqlZs2apXbt26cADD0zff/996bkbbbRROuKIIyodb/vtt0+9e/cu3e/UqVM666yz0n777ZdatWqVj3/VVVeVHl966aXz19VWWy2PKIhjhsGDB6e11lortWjRIrVp0yatv/766dNPP53rnwcA1DVCAgBgjunXr186++yz08knn5zefffd9K9//Sstuuii6YcffkhbbLFFWnDBBdMrr7yS7rjjjvTkk0+mQw89dJZfY8CAAalHjx7p9ddfTwcffHDq06dPGj58eH7s5Zdfzl/j2KNHj0533313+uWXX3LY0LNnz/Tmm2+mF154IQcUESIAAJU1nOY+AMBs+e6779JFF12ULrnkkrTPPvvkbcsss0zaYIMN0tVXX50mTpyYbrzxxnw1P8R+22yzTTrnnHNykFBdf/jDH3I4EI4//vh0wQUXpKeffjotv/zyaeGFF87bY6RC+/bt8/fffPNNGj9+fNp6661ze8KKK644x98/ANQHRhIAAHPEsGHD0qRJk9Kmm25a5WOrrLJKKSAIMeQ/picURwFUV/fu3Uvfx2iACAPGjh07w/3btm2bpyzESIYIJSLIiFEGAMD0hAQAwBwRtQZ+iwUWWCAVCoVK2yZPnjzdfo0aNap0P4KCCBtm5rrrrsvTDNZbb7102223peWWWy69+OKLv6m9AFAfCQkAgDli2WWXzUHBoEGDpnsshve/8cYbuTZB0XPPPZeDgZgmEGKqQMUr/FOmTElvv/32LLWhcePGpedOK4oZRs2E559/PnXr1i3XSwAAKhMSAABzRNOmTXONgOOOOy7XHvjoo4/y1fp//vOfac8998yPR62C6PhHDYHDDjss7b333qV6BLHywUMPPZRv7733Xi5IOG7cuFlqwyKLLJKDikcffTR9+eWXuRbBiBEjcjgQIwliRYPHH388ffDBB+oSAEAVhAQAwBwTqxocffTR6ZRTTsmd8N122y3XC2jevHl67LHHchHBNddcM+288865dkEULyyKZQ0jROjVq1deiaBz585p4403nqXXb9iwYbr44ovTlVdemRZbbLG03Xbb5deO0GGnnXbK0wxiZYNDDjkk/fnPf54LnwAA1G1lhWkn/wEAAADzJSMJAAAAgExIAAAAAGRCAgAAACATEgAAAACZkAAAAADIhAQAAABAJiQAAAAAMiEBAAAAkAkJAAAAgExIAAAAAGRCAgAAACCF/w8RKnB/VjgU/QAAAABJRU5ErkJggg==",
      "text/plain": [
       "<Figure size 1200x800 with 1 Axes>"
      ]
     },
     "metadata": {},
     "output_type": "display_data"
    }
   ],
=======
   "execution_count": null,
   "metadata": {},
   "outputs": [],
>>>>>>> f5f037656f1bd01188f70546802a1a48de6bf00c
   "source": [
    "sns.barplot(\n",
    "    x = 'counts',\n",
    "    y = 'token',\n",
    "    hue = 'ner_tag',\n",
    "    palette = ner_palette,\n",
    "    data = top_entities_fake[0:10],\n",
    "    orient = 'h',\n",
    "    dodge=False\n",
    ") \\\n",
    ".set(title='Most Common Entities in Fake News')"
   ]
  },
  {
   "cell_type": "code",
<<<<<<< HEAD
   "execution_count": 24,
   "metadata": {},
   "outputs": [
    {
     "data": {
      "text/plain": [
       "[Text(0.5, 1.0, 'Most Common Entities in Factual News')]"
      ]
     },
     "execution_count": 24,
     "metadata": {},
     "output_type": "execute_result"
    },
    {
     "data": {
      "image/png": "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",
      "text/plain": [
       "<Figure size 1200x800 with 1 Axes>"
      ]
     },
     "metadata": {},
     "output_type": "display_data"
    }
   ],
=======
   "execution_count": null,
   "metadata": {},
   "outputs": [],
>>>>>>> f5f037656f1bd01188f70546802a1a48de6bf00c
   "source": [
    "sns.barplot(\n",
    "    x = 'counts',\n",
    "    y = 'token',\n",
    "    hue = 'ner_tag',\n",
    "    palette = ner_palette,\n",
    "    data = top_entities_fact[0:10],\n",
    "    orient = 'h',\n",
    "    dodge=False\n",
    ") \\\n",
    ".set(title='Most Common Entities in Factual News')"
   ]
  },
  {
   "cell_type": "markdown",
   "metadata": {},
   "source": [
    "## Text Pre-processing"
   ]
  },
  {
   "cell_type": "code",
<<<<<<< HEAD
   "execution_count": 25,
=======
   "execution_count": null,
>>>>>>> f5f037656f1bd01188f70546802a1a48de6bf00c
   "metadata": {},
   "outputs": [],
   "source": [
    "# a lot of the factual news has a location tag at the beginning of the article, let's use regex to remove this\n",
    "data['text_clean'] = data.apply(lambda x: re.sub(r\"^[^-]*-\\s*\", \"\", x['text']), axis=1)"
   ]
  },
  {
   "cell_type": "code",
<<<<<<< HEAD
   "execution_count": 26,
=======
   "execution_count": null,
>>>>>>> f5f037656f1bd01188f70546802a1a48de6bf00c
   "metadata": {},
   "outputs": [],
   "source": [
    "# lowercase \n",
    "data['text_clean'] = data['text_clean'].str.lower()"
   ]
  },
  {
   "cell_type": "code",
<<<<<<< HEAD
   "execution_count": 27,
=======
   "execution_count": null,
>>>>>>> f5f037656f1bd01188f70546802a1a48de6bf00c
   "metadata": {},
   "outputs": [],
   "source": [
    "# remove punctuation\n",
    "data['text_clean'] = data.apply(lambda x: re.sub(r\"([^\\w\\s])\", \"\", x['text_clean']), axis=1)"
   ]
  },
  {
   "cell_type": "code",
<<<<<<< HEAD
   "execution_count": 28,
   "metadata": {},
   "outputs": [
    {
     "name": "stdout",
     "output_type": "stream",
     "text": [
      "['i', 'me', 'my', 'myself', 'we', 'our', 'ours', 'ourselves', 'you', \"you're\", \"you've\", \"you'll\", \"you'd\", 'your', 'yours', 'yourself', 'yourselves', 'he', 'him', 'his', 'himself', 'she', \"she's\", 'her', 'hers', 'herself', 'it', \"it's\", 'its', 'itself', 'they', 'them', 'their', 'theirs', 'themselves', 'what', 'which', 'who', 'whom', 'this', 'that', \"that'll\", 'these', 'those', 'am', 'is', 'are', 'was', 'were', 'be', 'been', 'being', 'have', 'has', 'had', 'having', 'do', 'does', 'did', 'doing', 'a', 'an', 'the', 'and', 'but', 'if', 'or', 'because', 'as', 'until', 'while', 'of', 'at', 'by', 'for', 'with', 'about', 'against', 'between', 'into', 'through', 'during', 'before', 'after', 'above', 'below', 'to', 'from', 'up', 'down', 'in', 'out', 'on', 'off', 'over', 'under', 'again', 'further', 'then', 'once', 'here', 'there', 'when', 'where', 'why', 'how', 'all', 'any', 'both', 'each', 'few', 'more', 'most', 'other', 'some', 'such', 'no', 'nor', 'not', 'only', 'own', 'same', 'so', 'than', 'too', 'very', 's', 't', 'can', 'will', 'just', 'don', \"don't\", 'should', \"should've\", 'now', 'd', 'll', 'm', 'o', 're', 've', 'y', 'ain', 'aren', \"aren't\", 'couldn', \"couldn't\", 'didn', \"didn't\", 'doesn', \"doesn't\", 'hadn', \"hadn't\", 'hasn', \"hasn't\", 'haven', \"haven't\", 'isn', \"isn't\", 'ma', 'mightn', \"mightn't\", 'mustn', \"mustn't\", 'needn', \"needn't\", 'shan', \"shan't\", 'shouldn', \"shouldn't\", 'wasn', \"wasn't\", 'weren', \"weren't\", 'won', \"won't\", 'wouldn', \"wouldn't\"]\n"
     ]
    }
   ],
=======
   "execution_count": null,
   "metadata": {},
   "outputs": [],
>>>>>>> f5f037656f1bd01188f70546802a1a48de6bf00c
   "source": [
    "# stop words\n",
    "en_stopwords = stopwords.words('english')\n",
    "print(en_stopwords) # check this against our most frequent n-grams"
   ]
  },
  {
   "cell_type": "code",
<<<<<<< HEAD
   "execution_count": 29,
=======
   "execution_count": null,
>>>>>>> f5f037656f1bd01188f70546802a1a48de6bf00c
   "metadata": {},
   "outputs": [],
   "source": [
    "data['text_clean'] = data['text_clean'].apply(lambda x: ' '.join([word for word in x.split() if word not in (en_stopwords)]))"
   ]
  },
  {
   "cell_type": "code",
<<<<<<< HEAD
   "execution_count": 30,
=======
   "execution_count": null,
>>>>>>> f5f037656f1bd01188f70546802a1a48de6bf00c
   "metadata": {},
   "outputs": [],
   "source": [
    "# tokenize \n",
    "data['text_clean'] = data.apply(lambda x: word_tokenize(x['text_clean']), axis=1)"
   ]
  },
  {
   "cell_type": "code",
<<<<<<< HEAD
   "execution_count": 31,
=======
   "execution_count": null,
>>>>>>> f5f037656f1bd01188f70546802a1a48de6bf00c
   "metadata": {},
   "outputs": [],
   "source": [
    "# lemmatize\n",
    "lemmatizer = WordNetLemmatizer()\n",
    "data[\"text_clean\"] = data[\"text_clean\"].apply(lambda tokens: [lemmatizer.lemmatize(token) for token in tokens])"
   ]
  },
  {
   "cell_type": "code",
<<<<<<< HEAD
   "execution_count": 32,
   "metadata": {},
   "outputs": [
    {
     "data": {
      "text/html": [
       "<div>\n",
       "<style scoped>\n",
       "    .dataframe tbody tr th:only-of-type {\n",
       "        vertical-align: middle;\n",
       "    }\n",
       "\n",
       "    .dataframe tbody tr th {\n",
       "        vertical-align: top;\n",
       "    }\n",
       "\n",
       "    .dataframe thead th {\n",
       "        text-align: right;\n",
       "    }\n",
       "</style>\n",
       "<table border=\"1\" class=\"dataframe\">\n",
       "  <thead>\n",
       "    <tr style=\"text-align: right;\">\n",
       "      <th></th>\n",
       "      <th>title</th>\n",
       "      <th>text</th>\n",
       "      <th>date</th>\n",
       "      <th>fake_or_factual</th>\n",
       "      <th>text_clean</th>\n",
       "    </tr>\n",
       "  </thead>\n",
       "  <tbody>\n",
       "    <tr>\n",
       "      <th>0</th>\n",
       "      <td>HOLLYWEIRD LIB SUSAN SARANDON Compares Muslim ...</td>\n",
       "      <td>There are two small problems with your analogy...</td>\n",
       "      <td>Dec 30, 2015</td>\n",
       "      <td>Fake News</td>\n",
       "      <td>[yearold, oscarwinning, actress, described, me...</td>\n",
       "    </tr>\n",
       "    <tr>\n",
       "      <th>1</th>\n",
       "      <td>Elijah Cummings Called Trump Out To His Face ...</td>\n",
       "      <td>Buried in Trump s bonkers interview with New Y...</td>\n",
       "      <td>April 6, 2017</td>\n",
       "      <td>Fake News</td>\n",
       "      <td>[buried, trump, bonkers, interview, new, york,...</td>\n",
       "    </tr>\n",
       "    <tr>\n",
       "      <th>2</th>\n",
       "      <td>Hillary Clinton Says Half Her Cabinet Will Be...</td>\n",
       "      <td>Women make up over 50 percent of this country,...</td>\n",
       "      <td>April 26, 2016</td>\n",
       "      <td>Fake News</td>\n",
       "      <td>[woman, make, 50, percent, country, grossly, u...</td>\n",
       "    </tr>\n",
       "    <tr>\n",
       "      <th>3</th>\n",
       "      <td>Russian bombing of U.S.-backed forces being di...</td>\n",
       "      <td>WASHINGTON (Reuters) - U.S. Defense Secretary ...</td>\n",
       "      <td>September 18, 2017</td>\n",
       "      <td>Factual News</td>\n",
       "      <td>[u, defense, secretary, jim, mattis, said, mon...</td>\n",
       "    </tr>\n",
       "    <tr>\n",
       "      <th>4</th>\n",
       "      <td>Britain says window to restore Northern Irelan...</td>\n",
       "      <td>BELFAST (Reuters) - Northern Ireland s politic...</td>\n",
       "      <td>September 4, 2017</td>\n",
       "      <td>Factual News</td>\n",
       "      <td>[northern, ireland, political, party, rapidly,...</td>\n",
       "    </tr>\n",
       "  </tbody>\n",
       "</table>\n",
       "</div>"
      ],
      "text/plain": [
       "                                               title  \\\n",
       "0  HOLLYWEIRD LIB SUSAN SARANDON Compares Muslim ...   \n",
       "1   Elijah Cummings Called Trump Out To His Face ...   \n",
       "2   Hillary Clinton Says Half Her Cabinet Will Be...   \n",
       "3  Russian bombing of U.S.-backed forces being di...   \n",
       "4  Britain says window to restore Northern Irelan...   \n",
       "\n",
       "                                                text                 date  \\\n",
       "0  There are two small problems with your analogy...         Dec 30, 2015   \n",
       "1  Buried in Trump s bonkers interview with New Y...        April 6, 2017   \n",
       "2  Women make up over 50 percent of this country,...       April 26, 2016   \n",
       "3  WASHINGTON (Reuters) - U.S. Defense Secretary ...  September 18, 2017    \n",
       "4  BELFAST (Reuters) - Northern Ireland s politic...   September 4, 2017    \n",
       "\n",
       "  fake_or_factual                                         text_clean  \n",
       "0       Fake News  [yearold, oscarwinning, actress, described, me...  \n",
       "1       Fake News  [buried, trump, bonkers, interview, new, york,...  \n",
       "2       Fake News  [woman, make, 50, percent, country, grossly, u...  \n",
       "3    Factual News  [u, defense, secretary, jim, mattis, said, mon...  \n",
       "4    Factual News  [northern, ireland, political, party, rapidly,...  "
      ]
     },
     "execution_count": 32,
     "metadata": {},
     "output_type": "execute_result"
    }
   ],
=======
   "execution_count": null,
   "metadata": {},
   "outputs": [],
>>>>>>> f5f037656f1bd01188f70546802a1a48de6bf00c
   "source": [
    "data.head()"
   ]
  },
  {
   "cell_type": "code",
<<<<<<< HEAD
   "execution_count": 33,
   "metadata": {},
   "outputs": [
    {
     "name": "stdout",
     "output_type": "stream",
     "text": [
      "           index  count\n",
      "0        (said,)    560\n",
      "1       (trump,)    520\n",
      "2           (u,)    255\n",
      "3       (state,)    250\n",
      "4   (president,)    226\n",
      "5       (would,)    210\n",
      "6         (one,)    141\n",
      "7        (year,)    128\n",
      "8  (republican,)    128\n",
      "9        (also,)    124\n"
     ]
    }
   ],
   "source": [
    "# most common unigrams after preprocessing\n",
    "tokens_clean = sum(data['text_clean'], [])\n",
    "unigrams = (pd.Series(nltk.ngrams(tokens_clean, 1)).value_counts()).reset_index()[:10]\n",
    "print(unigrams)"
=======
   "execution_count": null,
   "metadata": {},
   "outputs": [],
   "source": [
    "# most common unigrams after preprocessing\n",
    "tokens_clean = sum(data['text_clean'], [])\n",
    "unigrams = (pd.Series(nltk.ngrams(tokens_clean, 1)).value_counts()) \n",
    "print(unigrams[:10])"
>>>>>>> f5f037656f1bd01188f70546802a1a48de6bf00c
   ]
  },
  {
   "cell_type": "code",
<<<<<<< HEAD
   "execution_count": 62,
   "metadata": {},
   "outputs": [
    {
     "name": "stderr",
     "output_type": "stream",
     "text": [
      "C:\\Users\\lnewb\\AppData\\Local\\Temp\\ipykernel_42560\\4019870307.py:3: UserWarning: \n",
      "The palette list has fewer values (1) than needed (10) and will cycle, which may produce an uninterpretable plot.\n",
      "  sns.barplot(x = \"count\",\n"
     ]
    },
    {
     "data": {
      "text/plain": [
       "[Text(0.5, 1.0, 'Most Common Unigrams After Preprocessing')]"
      ]
     },
     "execution_count": 62,
     "metadata": {},
     "output_type": "execute_result"
    },
    {
     "data": {
      "image/png": "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",
      "text/plain": [
       "<Figure size 1200x800 with 1 Axes>"
      ]
     },
     "metadata": {},
     "output_type": "display_data"
    }
   ],
   "source": [
    "unigrams['token'] = unigrams['index'].apply(lambda x: x[0]) # extract the token from the tuple so we can plot it\n",
    "\n",
    "sns.barplot(x = \"count\", \n",
    "            y = \"token\", \n",
    "            data=unigrams,\n",
    "            orient = 'h',\n",
    "            palette=[default_plot_colour],\n",
    "            hue = \"token\", legend = False)\\\n",
=======
   "execution_count": null,
   "metadata": {},
   "outputs": [],
   "source": [
    "sns.barplot(x = unigrams.values[:10], \n",
    "            y = unigrams.index[:10], \n",
    "            orient = 'h',\n",
    "            palette=[default_plot_colour])\\\n",
>>>>>>> f5f037656f1bd01188f70546802a1a48de6bf00c
    ".set(title='Most Common Unigrams After Preprocessing')"
   ]
  },
  {
   "cell_type": "code",
<<<<<<< HEAD
   "execution_count": 35,
   "metadata": {},
   "outputs": [
    {
     "name": "stdout",
     "output_type": "stream",
     "text": [
      "(donald, trump)        92\n",
      "(united, state)        80\n",
      "(white, house)         72\n",
      "(president, donald)    42\n",
      "(hillary, clinton)     31\n",
      "(new, york)            31\n",
      "(image, via)           29\n",
      "(supreme, court)       29\n",
      "(official, said)       26\n",
      "(food, stamp)          24\n",
      "Name: count, dtype: int64\n"
     ]
    }
   ],
=======
   "execution_count": null,
   "metadata": {},
   "outputs": [],
>>>>>>> f5f037656f1bd01188f70546802a1a48de6bf00c
   "source": [
    "# most common bigrams after preprocessing\n",
    "bigrams = (pd.Series(nltk.ngrams(tokens_clean, 2)).value_counts()) \n",
    "print(bigrams[:10])"
   ]
  },
  {
   "cell_type": "markdown",
   "metadata": {},
   "source": [
    "## Sentiment Analysis"
   ]
  },
  {
   "cell_type": "code",
<<<<<<< HEAD
   "execution_count": 36,
=======
   "execution_count": null,
>>>>>>> f5f037656f1bd01188f70546802a1a48de6bf00c
   "metadata": {},
   "outputs": [],
   "source": [
    "# use vader so we also get a neutral sentiment count\n",
    "vader_sentiment = SentimentIntensityAnalyzer()"
   ]
  },
  {
   "cell_type": "code",
<<<<<<< HEAD
   "execution_count": 37,
=======
   "execution_count": null,
>>>>>>> f5f037656f1bd01188f70546802a1a48de6bf00c
   "metadata": {},
   "outputs": [],
   "source": [
    "data['vader_sentiment_score'] = data['text'].apply(lambda review: vader_sentiment.polarity_scores(review)['compound'])"
   ]
  },
  {
   "cell_type": "code",
<<<<<<< HEAD
   "execution_count": 38,
=======
   "execution_count": null,
>>>>>>> f5f037656f1bd01188f70546802a1a48de6bf00c
   "metadata": {},
   "outputs": [],
   "source": [
    "# create labels\n",
    "bins = [-1, -0.1, 0.1, 1]\n",
    "names = ['negative', 'neutral', 'positive']\n",
    "\n",
    "data['vader_sentiment_label'] = pd.cut(data['vader_sentiment_score'], bins, labels=names)"
   ]
  },
  {
   "cell_type": "code",
<<<<<<< HEAD
   "execution_count": 39,
   "metadata": {},
   "outputs": [
    {
     "data": {
      "text/plain": [
       "<Axes: xlabel='vader_sentiment_label'>"
      ]
     },
     "execution_count": 39,
     "metadata": {},
     "output_type": "execute_result"
    },
    {
     "data": {
      "image/png": "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",
      "text/plain": [
       "<Figure size 1200x800 with 1 Axes>"
      ]
     },
     "metadata": {},
     "output_type": "display_data"
    }
   ],
=======
   "execution_count": null,
   "metadata": {},
   "outputs": [],
>>>>>>> f5f037656f1bd01188f70546802a1a48de6bf00c
   "source": [
    "data['vader_sentiment_label'].value_counts().plot.bar(color=default_plot_colour)"
   ]
  },
  {
   "cell_type": "code",
<<<<<<< HEAD
   "execution_count": 40,
   "metadata": {},
   "outputs": [
    {
     "name": "stderr",
     "output_type": "stream",
     "text": [
      "C:\\Users\\lnewb\\AppData\\Local\\Temp\\ipykernel_42560\\3014756626.py:1: UserWarning: The palette list has more values (6) than needed (3), which may not be intended.\n",
      "  sns.countplot(\n"
     ]
    },
    {
     "data": {
      "text/plain": [
       "[Text(0.5, 1.0, 'Sentiment by News Type')]"
      ]
     },
     "execution_count": 40,
     "metadata": {},
     "output_type": "execute_result"
    },
    {
     "data": {
      "image/png": "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",
      "text/plain": [
       "<Figure size 1200x800 with 1 Axes>"
      ]
     },
     "metadata": {},
     "output_type": "display_data"
    }
   ],
=======
   "execution_count": null,
   "metadata": {},
   "outputs": [],
>>>>>>> f5f037656f1bd01188f70546802a1a48de6bf00c
   "source": [
    "sns.countplot(\n",
    "    x = 'fake_or_factual',\n",
    "    hue = 'vader_sentiment_label',\n",
    "    palette = sns.color_palette(\"hls\"),\n",
    "    data = data\n",
    ") \\\n",
    ".set(title='Sentiment by News Type')"
   ]
  },
  {
   "cell_type": "markdown",
   "metadata": {},
   "source": [
    "## LDA"
   ]
  },
  {
   "cell_type": "code",
<<<<<<< HEAD
   "execution_count": 41,
=======
   "execution_count": null,
>>>>>>> f5f037656f1bd01188f70546802a1a48de6bf00c
   "metadata": {},
   "outputs": [],
   "source": [
    "# fake news data vectorization\n",
    "fake_news_text = data[data['fake_or_factual'] == \"Fake News\"]['text_clean'].reset_index(drop=True)\n",
    "dictionary_fake = corpora.Dictionary(fake_news_text)\n",
    "doc_term_fake = [dictionary_fake.doc2bow(text) for text in fake_news_text]"
   ]
  },
  {
   "cell_type": "code",
<<<<<<< HEAD
   "execution_count": 42,
   "metadata": {},
   "outputs": [
    {
     "data": {
      "image/png": "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",
      "text/plain": [
       "<Figure size 1200x800 with 1 Axes>"
      ]
     },
     "metadata": {},
     "output_type": "display_data"
    }
   ],
=======
   "execution_count": null,
   "metadata": {},
   "outputs": [],
>>>>>>> f5f037656f1bd01188f70546802a1a48de6bf00c
   "source": [
    "# generate coherence scores to determine an optimum number of topics\n",
    "coherence_values = []\n",
    "model_list = []\n",
    "\n",
    "min_topics = 2\n",
    "max_topics = 11\n",
    "\n",
    "for num_topics_i in range(min_topics, max_topics+1):\n",
    "    model = gensim.models.LdaModel(doc_term_fake, num_topics=num_topics_i, id2word = dictionary_fake)\n",
    "    model_list.append(model)\n",
    "    coherence_model = CoherenceModel(model=model, texts=fake_news_text, dictionary=dictionary_fake, coherence='c_v')\n",
    "    coherence_values.append(coherence_model.get_coherence())\n",
    "    \n",
    "plt.plot(range(min_topics, max_topics+1), coherence_values)\n",
    "plt.xlabel(\"Number of Topics\")\n",
    "plt.ylabel(\"Coherence score\")\n",
    "plt.legend((\"coherence_values\"), loc='best')\n",
    "plt.show()"
   ]
  },
  {
   "cell_type": "code",
<<<<<<< HEAD
   "execution_count": 43,
   "metadata": {},
   "outputs": [
    {
     "data": {
      "text/plain": [
       "[(0,\n",
       "  '0.013*\"trump\" + 0.004*\"said\" + 0.004*\"republican\" + 0.004*\"president\" + 0.003*\"clinton\" + 0.003*\"state\" + 0.003*\"would\" + 0.003*\"time\" + 0.003*\"year\" + 0.003*\"u\"'),\n",
       " (1,\n",
       "  '0.005*\"trump\" + 0.004*\"said\" + 0.003*\"go\" + 0.003*\"law\" + 0.003*\"also\" + 0.003*\"u\" + 0.003*\"people\" + 0.003*\"state\" + 0.003*\"woman\" + 0.003*\"would\"'),\n",
       " (2,\n",
       "  '0.013*\"trump\" + 0.006*\"said\" + 0.005*\"u\" + 0.005*\"would\" + 0.005*\"president\" + 0.004*\"clinton\" + 0.004*\"state\" + 0.004*\"year\" + 0.003*\"one\" + 0.003*\"people\"'),\n",
       " (3,\n",
       "  '0.012*\"trump\" + 0.005*\"clinton\" + 0.005*\"president\" + 0.004*\"said\" + 0.004*\"time\" + 0.004*\"state\" + 0.004*\"one\" + 0.004*\"would\" + 0.003*\"woman\" + 0.003*\"image\"'),\n",
       " (4,\n",
       "  '0.007*\"trump\" + 0.004*\"republican\" + 0.004*\"clinton\" + 0.003*\"state\" + 0.003*\"one\" + 0.003*\"said\" + 0.003*\"president\" + 0.003*\"also\" + 0.003*\"woman\" + 0.003*\"student\"')]"
      ]
     },
     "execution_count": 43,
     "metadata": {},
     "output_type": "execute_result"
    }
   ],
=======
   "execution_count": null,
   "metadata": {},
   "outputs": [],
>>>>>>> f5f037656f1bd01188f70546802a1a48de6bf00c
   "source": [
    "# create lda model\n",
    "num_topics_fake = 5\n",
    "\n",
    "lda_model_fake = gensim.models.LdaModel(corpus=doc_term_fake,\n",
    "                                       id2word=dictionary_fake,\n",
    "                                       num_topics=num_topics_fake)\n",
    "\n",
    "lda_model_fake.print_topics(num_topics=num_topics_fake, num_words=10)"
   ]
  },
  {
   "cell_type": "code",
<<<<<<< HEAD
   "execution_count": 44,
=======
   "execution_count": null,
>>>>>>> f5f037656f1bd01188f70546802a1a48de6bf00c
   "metadata": {},
   "outputs": [],
   "source": [
    "# our topics contain a lot of very similar words, let's try using latent semantic anaysis with tf-idf vectorization"
   ]
  },
  {
   "cell_type": "markdown",
   "metadata": {},
   "source": [
    "## TF-IDF & LSA"
   ]
  },
  {
   "cell_type": "code",
<<<<<<< HEAD
   "execution_count": 45,
=======
   "execution_count": null,
>>>>>>> f5f037656f1bd01188f70546802a1a48de6bf00c
   "metadata": {},
   "outputs": [],
   "source": [
    "def tfidf_corpus(doc_term_matrix):\n",
    "    # create a corpus using tfidf vecotization\n",
    "    tfidf = TfidfModel(corpus=doc_term_matrix, normalize=True)\n",
    "    corpus_tfidf = tfidf[doc_term_matrix]\n",
    "    return corpus_tfidf"
   ]
  },
  {
   "cell_type": "code",
<<<<<<< HEAD
   "execution_count": 46,
=======
   "execution_count": null,
>>>>>>> f5f037656f1bd01188f70546802a1a48de6bf00c
   "metadata": {},
   "outputs": [],
   "source": [
    "def get_coherence_scores(corpus, dictionary, text, min_topics, max_topics):\n",
    "    # generate coherence scores to determine an optimum number of topics\n",
    "    coherence_values = []\n",
    "    model_list = []\n",
    "    for num_topics_i in range(min_topics, max_topics+1):\n",
    "        model = LsiModel(corpus, num_topics=num_topics_i, id2word = dictionary)\n",
    "        model_list.append(model)\n",
    "        coherence_model = CoherenceModel(model=model, texts=text, dictionary=dictionary, coherence='c_v')\n",
    "        coherence_values.append(coherence_model.get_coherence())\n",
    "    # plot results\n",
    "    plt.plot(range(min_topics, max_topics+1), coherence_values)\n",
    "    plt.xlabel(\"Number of Topics\")\n",
    "    plt.ylabel(\"Coherence score\")\n",
    "    plt.legend((\"coherence_values\"), loc='best')\n",
    "    plt.show()"
   ]
  },
  {
   "cell_type": "code",
<<<<<<< HEAD
   "execution_count": 47,
   "metadata": {},
   "outputs": [
    {
     "data": {
      "image/png": "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",
      "text/plain": [
       "<Figure size 1200x800 with 1 Axes>"
      ]
     },
     "metadata": {},
     "output_type": "display_data"
    }
   ],
=======
   "execution_count": null,
   "metadata": {},
   "outputs": [],
>>>>>>> f5f037656f1bd01188f70546802a1a48de6bf00c
   "source": [
    "# create tfidf representation\n",
    "corpus_tfidf_fake = tfidf_corpus(doc_term_fake)\n",
    "# coherence scores for fake news data\n",
    "get_coherence_scores(corpus_tfidf_fake, dictionary_fake, fake_news_text, min_topics=2, max_topics=11)"
   ]
  },
  {
   "cell_type": "code",
<<<<<<< HEAD
   "execution_count": 48,
   "metadata": {},
   "outputs": [
    {
     "data": {
      "text/plain": [
       "[(0,\n",
       "  '0.218*\"trump\" + 0.135*\"clinton\" + 0.094*\"woman\" + 0.087*\"president\" + 0.086*\"republican\" + 0.085*\"obama\" + 0.084*\"party\" + 0.083*\"school\" + 0.081*\"said\" + 0.079*\"time\"'),\n",
       " (1,\n",
       "  '0.299*\"boiler\" + 0.253*\"room\" + 0.250*\"acr\" + 0.186*\"jay\" + 0.185*\"animal\" + 0.176*\"episode\" + 0.147*\"analysis\" + 0.122*\"dyer\" + 0.119*\"savant\" + 0.119*\"moralist\"'),\n",
       " (2,\n",
       "  '0.219*\"school\" + -0.195*\"clinton\" + -0.163*\"conference\" + 0.151*\"county\" + 0.137*\"student\" + -0.120*\"press\" + -0.116*\"trump\" + -0.112*\"hillary\" + 0.101*\"love\" + -0.095*\"email\"')]"
      ]
     },
     "execution_count": 48,
     "metadata": {},
     "output_type": "execute_result"
    }
   ],
=======
   "execution_count": null,
   "metadata": {},
   "outputs": [],
>>>>>>> f5f037656f1bd01188f70546802a1a48de6bf00c
   "source": [
    "# model for fake news data\n",
    "lsa_fake = LsiModel(corpus_tfidf_fake, id2word=dictionary_fake, num_topics=3)\n",
    "lsa_fake.print_topics()"
   ]
  },
  {
   "cell_type": "markdown",
   "metadata": {},
   "source": [
    "## Predict fake or factual news "
   ]
  },
  {
   "cell_type": "code",
<<<<<<< HEAD
   "execution_count": 49,
   "metadata": {},
   "outputs": [
    {
     "data": {
      "text/html": [
       "<div>\n",
       "<style scoped>\n",
       "    .dataframe tbody tr th:only-of-type {\n",
       "        vertical-align: middle;\n",
       "    }\n",
       "\n",
       "    .dataframe tbody tr th {\n",
       "        vertical-align: top;\n",
       "    }\n",
       "\n",
       "    .dataframe thead th {\n",
       "        text-align: right;\n",
       "    }\n",
       "</style>\n",
       "<table border=\"1\" class=\"dataframe\">\n",
       "  <thead>\n",
       "    <tr style=\"text-align: right;\">\n",
       "      <th></th>\n",
       "      <th>title</th>\n",
       "      <th>text</th>\n",
       "      <th>date</th>\n",
       "      <th>fake_or_factual</th>\n",
       "      <th>text_clean</th>\n",
       "      <th>vader_sentiment_score</th>\n",
       "      <th>vader_sentiment_label</th>\n",
       "    </tr>\n",
       "  </thead>\n",
       "  <tbody>\n",
       "    <tr>\n",
       "      <th>0</th>\n",
       "      <td>HOLLYWEIRD LIB SUSAN SARANDON Compares Muslim ...</td>\n",
       "      <td>There are two small problems with your analogy...</td>\n",
       "      <td>Dec 30, 2015</td>\n",
       "      <td>Fake News</td>\n",
       "      <td>[yearold, oscarwinning, actress, described, me...</td>\n",
       "      <td>-0.3660</td>\n",
       "      <td>negative</td>\n",
       "    </tr>\n",
       "    <tr>\n",
       "      <th>1</th>\n",
       "      <td>Elijah Cummings Called Trump Out To His Face ...</td>\n",
       "      <td>Buried in Trump s bonkers interview with New Y...</td>\n",
       "      <td>April 6, 2017</td>\n",
       "      <td>Fake News</td>\n",
       "      <td>[buried, trump, bonkers, interview, new, york,...</td>\n",
       "      <td>-0.8197</td>\n",
       "      <td>negative</td>\n",
       "    </tr>\n",
       "    <tr>\n",
       "      <th>2</th>\n",
       "      <td>Hillary Clinton Says Half Her Cabinet Will Be...</td>\n",
       "      <td>Women make up over 50 percent of this country,...</td>\n",
       "      <td>April 26, 2016</td>\n",
       "      <td>Fake News</td>\n",
       "      <td>[woman, make, 50, percent, country, grossly, u...</td>\n",
       "      <td>0.9779</td>\n",
       "      <td>positive</td>\n",
       "    </tr>\n",
       "    <tr>\n",
       "      <th>3</th>\n",
       "      <td>Russian bombing of U.S.-backed forces being di...</td>\n",
       "      <td>WASHINGTON (Reuters) - U.S. Defense Secretary ...</td>\n",
       "      <td>September 18, 2017</td>\n",
       "      <td>Factual News</td>\n",
       "      <td>[u, defense, secretary, jim, mattis, said, mon...</td>\n",
       "      <td>-0.3400</td>\n",
       "      <td>negative</td>\n",
       "    </tr>\n",
       "    <tr>\n",
       "      <th>4</th>\n",
       "      <td>Britain says window to restore Northern Irelan...</td>\n",
       "      <td>BELFAST (Reuters) - Northern Ireland s politic...</td>\n",
       "      <td>September 4, 2017</td>\n",
       "      <td>Factual News</td>\n",
       "      <td>[northern, ireland, political, party, rapidly,...</td>\n",
       "      <td>0.8590</td>\n",
       "      <td>positive</td>\n",
       "    </tr>\n",
       "  </tbody>\n",
       "</table>\n",
       "</div>"
      ],
      "text/plain": [
       "                                               title  \\\n",
       "0  HOLLYWEIRD LIB SUSAN SARANDON Compares Muslim ...   \n",
       "1   Elijah Cummings Called Trump Out To His Face ...   \n",
       "2   Hillary Clinton Says Half Her Cabinet Will Be...   \n",
       "3  Russian bombing of U.S.-backed forces being di...   \n",
       "4  Britain says window to restore Northern Irelan...   \n",
       "\n",
       "                                                text                 date  \\\n",
       "0  There are two small problems with your analogy...         Dec 30, 2015   \n",
       "1  Buried in Trump s bonkers interview with New Y...        April 6, 2017   \n",
       "2  Women make up over 50 percent of this country,...       April 26, 2016   \n",
       "3  WASHINGTON (Reuters) - U.S. Defense Secretary ...  September 18, 2017    \n",
       "4  BELFAST (Reuters) - Northern Ireland s politic...   September 4, 2017    \n",
       "\n",
       "  fake_or_factual                                         text_clean  \\\n",
       "0       Fake News  [yearold, oscarwinning, actress, described, me...   \n",
       "1       Fake News  [buried, trump, bonkers, interview, new, york,...   \n",
       "2       Fake News  [woman, make, 50, percent, country, grossly, u...   \n",
       "3    Factual News  [u, defense, secretary, jim, mattis, said, mon...   \n",
       "4    Factual News  [northern, ireland, political, party, rapidly,...   \n",
       "\n",
       "   vader_sentiment_score vader_sentiment_label  \n",
       "0                -0.3660              negative  \n",
       "1                -0.8197              negative  \n",
       "2                 0.9779              positive  \n",
       "3                -0.3400              negative  \n",
       "4                 0.8590              positive  "
      ]
     },
     "execution_count": 49,
     "metadata": {},
     "output_type": "execute_result"
    }
   ],
=======
   "execution_count": null,
   "metadata": {},
   "outputs": [],
>>>>>>> f5f037656f1bd01188f70546802a1a48de6bf00c
   "source": [
    "data.head()"
   ]
  },
  {
   "cell_type": "code",
<<<<<<< HEAD
   "execution_count": 50,
=======
   "execution_count": null,
>>>>>>> f5f037656f1bd01188f70546802a1a48de6bf00c
   "metadata": {},
   "outputs": [],
   "source": [
    "X = [','.join(map(str, l)) for l in data['text_clean']]\n",
    "Y = data['fake_or_factual']"
   ]
  },
  {
   "cell_type": "code",
<<<<<<< HEAD
   "execution_count": 51,
=======
   "execution_count": null,
>>>>>>> f5f037656f1bd01188f70546802a1a48de6bf00c
   "metadata": {},
   "outputs": [],
   "source": [
    "# text vectorization - CountVectorizer\n",
    "countvec = CountVectorizer()\n",
    "countvec_fit = countvec.fit_transform(X)\n",
    "bag_of_words = pd.DataFrame(countvec_fit.toarray(), columns = countvec.get_feature_names_out())"
   ]
  },
  {
   "cell_type": "code",
<<<<<<< HEAD
   "execution_count": 52,
=======
   "execution_count": null,
>>>>>>> f5f037656f1bd01188f70546802a1a48de6bf00c
   "metadata": {},
   "outputs": [],
   "source": [
    "# split into train and test data\n",
    "X_train, X_test, y_train, y_test = train_test_split(bag_of_words, Y, test_size=0.3)"
   ]
  },
  {
   "cell_type": "code",
<<<<<<< HEAD
   "execution_count": 53,
=======
   "execution_count": null,
>>>>>>> f5f037656f1bd01188f70546802a1a48de6bf00c
   "metadata": {},
   "outputs": [],
   "source": [
    "lr = LogisticRegression(random_state=0).fit(X_train, y_train)"
   ]
  },
  {
   "cell_type": "code",
<<<<<<< HEAD
   "execution_count": 54,
=======
   "execution_count": null,
>>>>>>> f5f037656f1bd01188f70546802a1a48de6bf00c
   "metadata": {},
   "outputs": [],
   "source": [
    "y_pred_lr = lr.predict(X_test)"
   ]
  },
  {
   "cell_type": "code",
<<<<<<< HEAD
   "execution_count": 55,
   "metadata": {},
   "outputs": [
    {
     "data": {
      "text/plain": [
       "0.9"
      ]
     },
     "execution_count": 55,
     "metadata": {},
     "output_type": "execute_result"
    }
   ],
=======
   "execution_count": null,
   "metadata": {},
   "outputs": [],
>>>>>>> f5f037656f1bd01188f70546802a1a48de6bf00c
   "source": [
    "accuracy_score(y_pred_lr, y_test)"
   ]
  },
  {
   "cell_type": "code",
<<<<<<< HEAD
   "execution_count": 56,
   "metadata": {},
   "outputs": [
    {
     "name": "stdout",
     "output_type": "stream",
     "text": [
      "              precision    recall  f1-score   support\n",
      "\n",
      "Factual News       0.84      0.91      0.88        23\n",
      "   Fake News       0.94      0.89      0.92        37\n",
      "\n",
      "    accuracy                           0.90        60\n",
      "   macro avg       0.89      0.90      0.90        60\n",
      "weighted avg       0.90      0.90      0.90        60\n",
      "\n"
     ]
    }
   ],
=======
   "execution_count": null,
   "metadata": {},
   "outputs": [],
>>>>>>> f5f037656f1bd01188f70546802a1a48de6bf00c
   "source": [
    "print(classification_report(y_test, y_pred_lr))"
   ]
  },
  {
   "cell_type": "code",
<<<<<<< HEAD
   "execution_count": 57,
=======
   "execution_count": null,
>>>>>>> f5f037656f1bd01188f70546802a1a48de6bf00c
   "metadata": {},
   "outputs": [],
   "source": [
    "svm = SGDClassifier().fit(X_train, y_train)"
   ]
  },
  {
   "cell_type": "code",
<<<<<<< HEAD
   "execution_count": 58,
=======
   "execution_count": null,
>>>>>>> f5f037656f1bd01188f70546802a1a48de6bf00c
   "metadata": {},
   "outputs": [],
   "source": [
    "y_pred_svm = svm.predict(X_test)"
   ]
  },
  {
   "cell_type": "code",
<<<<<<< HEAD
   "execution_count": 59,
   "metadata": {},
   "outputs": [
    {
     "data": {
      "text/plain": [
       "0.85"
      ]
     },
     "execution_count": 59,
     "metadata": {},
     "output_type": "execute_result"
    }
   ],
=======
   "execution_count": null,
   "metadata": {},
   "outputs": [],
>>>>>>> f5f037656f1bd01188f70546802a1a48de6bf00c
   "source": [
    "accuracy_score(y_pred_svm, y_test)"
   ]
  },
  {
   "cell_type": "code",
<<<<<<< HEAD
   "execution_count": 60,
   "metadata": {},
   "outputs": [
    {
     "name": "stdout",
     "output_type": "stream",
     "text": [
      "              precision    recall  f1-score   support\n",
      "\n",
      "Factual News       0.73      0.96      0.83        23\n",
      "   Fake News       0.97      0.78      0.87        37\n",
      "\n",
      "    accuracy                           0.85        60\n",
      "   macro avg       0.85      0.87      0.85        60\n",
      "weighted avg       0.88      0.85      0.85        60\n",
      "\n"
     ]
    }
   ],
=======
   "execution_count": null,
   "metadata": {},
   "outputs": [],
>>>>>>> f5f037656f1bd01188f70546802a1a48de6bf00c
   "source": [
    "print(classification_report(y_test, y_pred_svm))"
   ]
  },
  {
   "cell_type": "code",
   "execution_count": null,
   "metadata": {},
   "outputs": [],
   "source": []
  }
 ],
 "metadata": {
  "kernelspec": {
<<<<<<< HEAD
   "display_name": "aibootcampenv",
   "language": "python",
   "name": "aibootcampenv"
=======
   "display_name": "Python 3 (ipykernel)",
   "language": "python",
   "name": "python3"
>>>>>>> f5f037656f1bd01188f70546802a1a48de6bf00c
  },
  "language_info": {
   "codemirror_mode": {
    "name": "ipython",
    "version": 3
   },
   "file_extension": ".py",
   "mimetype": "text/x-python",
   "name": "python",
   "nbconvert_exporter": "python",
   "pygments_lexer": "ipython3",
   "version": "3.11.5"
  }
 },
 "nbformat": 4,
 "nbformat_minor": 4
}
